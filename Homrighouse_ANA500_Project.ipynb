{
 "cells": [
  {
   "cell_type": "code",
   "execution_count": 50,
   "metadata": {
    "execution": {
     "iopub.execute_input": "2025-05-12T04:14:39.032876Z",
     "iopub.status.busy": "2025-05-12T04:14:39.032608Z",
     "iopub.status.idle": "2025-05-12T04:14:39.040019Z",
     "shell.execute_reply": "2025-05-12T04:14:39.039525Z",
     "shell.execute_reply.started": "2025-05-12T04:14:39.032856Z"
    },
    "nbgrader": {
     "grade": false,
     "grade_id": "cell-c4f70c6d3261a298",
     "locked": true,
     "schema_version": 3,
     "solution": false,
     "task": false
    }
   },
   "outputs": [],
   "source": [
    "from scipy import stats\n",
    "import pandas as pd\n",
    "\n",
    "###### Start of code #####\n",
    "\n",
    "student_df = pd.read_csv('student_habits_performance.csv')\n"
   ]
  },
  {
   "cell_type": "code",
   "execution_count": 51,
   "metadata": {
    "execution": {
     "iopub.execute_input": "2025-05-12T04:14:39.838539Z",
     "iopub.status.busy": "2025-05-12T04:14:39.838020Z",
     "iopub.status.idle": "2025-05-12T04:14:39.870193Z",
     "shell.execute_reply": "2025-05-12T04:14:39.869624Z",
     "shell.execute_reply.started": "2025-05-12T04:14:39.838515Z"
    }
   },
   "outputs": [
    {
     "name": "stdout",
     "output_type": "stream",
     "text": [
      "Dataset\n",
      "  student_id  age  gender  study_hours_per_day  social_media_hours  \\\n",
      "0      S1000   23  Female                  0.0                 1.2   \n",
      "1      S1001   20  Female                  6.9                 2.8   \n",
      "2      S1002   21    Male                  1.4                 3.1   \n",
      "3      S1003   23  Female                  1.0                 3.9   \n",
      "4      S1004   19  Female                  5.0                 4.4   \n",
      "\n",
      "   netflix_hours part_time_job  attendance_percentage  sleep_hours  \\\n",
      "0            1.1            No                   85.0          8.0   \n",
      "1            2.3            No                   97.3          4.6   \n",
      "2            1.3            No                   94.8          8.0   \n",
      "3            1.0            No                   71.0          9.2   \n",
      "4            0.5            No                   90.9          4.9   \n",
      "\n",
      "  diet_quality  exercise_frequency parental_education_level internet_quality  \\\n",
      "0         Fair                   6                   Master          Average   \n",
      "1         Good                   6              High School          Average   \n",
      "2         Poor                   1              High School             Poor   \n",
      "3         Poor                   4                   Master             Good   \n",
      "4         Fair                   3                   Master             Good   \n",
      "\n",
      "   mental_health_rating extracurricular_participation  exam_score  \n",
      "0                     8                           Yes        56.2  \n",
      "1                     8                            No       100.0  \n",
      "2                     1                            No        34.3  \n",
      "3                     1                           Yes        26.8  \n",
      "4                     1                            No        66.4  \n",
      "\n",
      "Dataset information\n",
      "<class 'pandas.core.frame.DataFrame'>\n",
      "RangeIndex: 1000 entries, 0 to 999\n",
      "Data columns (total 16 columns):\n",
      " #   Column                         Non-Null Count  Dtype  \n",
      "---  ------                         --------------  -----  \n",
      " 0   student_id                     1000 non-null   object \n",
      " 1   age                            1000 non-null   int64  \n",
      " 2   gender                         1000 non-null   object \n",
      " 3   study_hours_per_day            1000 non-null   float64\n",
      " 4   social_media_hours             1000 non-null   float64\n",
      " 5   netflix_hours                  1000 non-null   float64\n",
      " 6   part_time_job                  1000 non-null   object \n",
      " 7   attendance_percentage          1000 non-null   float64\n",
      " 8   sleep_hours                    1000 non-null   float64\n",
      " 9   diet_quality                   1000 non-null   object \n",
      " 10  exercise_frequency             1000 non-null   int64  \n",
      " 11  parental_education_level       909 non-null    object \n",
      " 12  internet_quality               1000 non-null   object \n",
      " 13  mental_health_rating           1000 non-null   int64  \n",
      " 14  extracurricular_participation  1000 non-null   object \n",
      " 15  exam_score                     1000 non-null   float64\n",
      "dtypes: float64(6), int64(3), object(7)\n",
      "memory usage: 125.1+ KB\n",
      "None\n",
      "\n",
      "Descriptive Statistics\n",
      "             age  study_hours_per_day  social_media_hours  netflix_hours  \\\n",
      "count  1000.0000           1000.00000         1000.000000    1000.000000   \n",
      "mean     20.4980              3.55010            2.505500       1.819700   \n",
      "std       2.3081              1.46889            1.172422       1.075118   \n",
      "min      17.0000              0.00000            0.000000       0.000000   \n",
      "25%      18.7500              2.60000            1.700000       1.000000   \n",
      "50%      20.0000              3.50000            2.500000       1.800000   \n",
      "75%      23.0000              4.50000            3.300000       2.525000   \n",
      "max      24.0000              8.30000            7.200000       5.400000   \n",
      "\n",
      "       attendance_percentage  sleep_hours  exercise_frequency  \\\n",
      "count            1000.000000  1000.000000         1000.000000   \n",
      "mean               84.131700     6.470100            3.042000   \n",
      "std                 9.399246     1.226377            2.025423   \n",
      "min                56.000000     3.200000            0.000000   \n",
      "25%                78.000000     5.600000            1.000000   \n",
      "50%                84.400000     6.500000            3.000000   \n",
      "75%                91.025000     7.300000            5.000000   \n",
      "max               100.000000    10.000000            6.000000   \n",
      "\n",
      "       mental_health_rating   exam_score  \n",
      "count           1000.000000  1000.000000  \n",
      "mean               5.438000    69.601500  \n",
      "std                2.847501    16.888564  \n",
      "min                1.000000    18.400000  \n",
      "25%                3.000000    58.475000  \n",
      "50%                5.000000    70.500000  \n",
      "75%                8.000000    81.325000  \n",
      "max               10.000000   100.000000  \n",
      "\n",
      "Duplicate rows:\n",
      " Empty DataFrame\n",
      "Columns: [student_id, age, gender, study_hours_per_day, social_media_hours, netflix_hours, part_time_job, attendance_percentage, sleep_hours, diet_quality, exercise_frequency, parental_education_level, internet_quality, mental_health_rating, extracurricular_participation, exam_score]\n",
      "Index: []\n"
     ]
    }
   ],
   "source": [
    "# Dataset makeup\n",
    "print(\"Dataset\")\n",
    "print(student_df.head())\n",
    "print(\"\\nDataset information\")\n",
    "print(student_df.info())\n",
    "\n",
    "# Descriptive statistics\n",
    "print(\"\\nDescriptive Statistics\")\n",
    "print(student_df.describe())\n",
    "\n",
    "# Duplicates?\n",
    "print(\"\\nDuplicate rows:\\n\", student_df[student_df.duplicated()])"
   ]
  },
  {
   "cell_type": "code",
   "execution_count": 52,
   "metadata": {
    "execution": {
     "iopub.execute_input": "2025-05-12T04:14:41.189131Z",
     "iopub.status.busy": "2025-05-12T04:14:41.188866Z",
     "iopub.status.idle": "2025-05-12T04:14:41.193000Z",
     "shell.execute_reply": "2025-05-12T04:14:41.192477Z",
     "shell.execute_reply.started": "2025-05-12T04:14:41.189110Z"
    }
   },
   "outputs": [],
   "source": [
    "# Drop student_id \n",
    "student_df.drop(columns='student_id', inplace=True)"
   ]
  },
  {
   "cell_type": "code",
   "execution_count": 53,
   "metadata": {
    "execution": {
     "iopub.execute_input": "2025-05-12T04:14:42.492917Z",
     "iopub.status.busy": "2025-05-12T04:14:42.492653Z",
     "iopub.status.idle": "2025-05-12T04:14:42.497475Z",
     "shell.execute_reply": "2025-05-12T04:14:42.496988Z",
     "shell.execute_reply.started": "2025-05-12T04:14:42.492898Z"
    }
   },
   "outputs": [
    {
     "name": "stdout",
     "output_type": "stream",
     "text": [
      "Unique values in 'gender': ['Female', 'Male', 'Other']\n",
      "Unique values in 'part_time_job': ['No', 'Yes']\n",
      "Unique values in 'diet_quality': ['Fair', 'Good', 'Poor']\n",
      "Unique values in 'parental_education_level': ['Master', 'High School', 'Bachelor', nan]\n",
      "Unique values in 'internet_quality': ['Average', 'Poor', 'Good']\n",
      "Unique values in 'extracurricular_participation': ['Yes', 'No']\n"
     ]
    }
   ],
   "source": [
    "# Determine unique values in categorical columns\n",
    "cat_columns = ['gender', 'part_time_job', 'diet_quality', 'parental_education_level', \n",
    "           'internet_quality', 'extracurricular_participation']\n",
    "\n",
    "unique_values = {col: student_df[col].unique().tolist() for col in cat_columns}\n",
    "\n",
    "for col, values in unique_values.items():\n",
    "    print(f\"Unique values in '{col}': {values}\")"
   ]
  },
  {
   "cell_type": "code",
   "execution_count": 54,
   "metadata": {
    "execution": {
     "iopub.execute_input": "2025-05-12T04:14:44.262903Z",
     "iopub.status.busy": "2025-05-12T04:14:44.262615Z",
     "iopub.status.idle": "2025-05-12T04:14:44.274708Z",
     "shell.execute_reply": "2025-05-12T04:14:44.274146Z",
     "shell.execute_reply.started": "2025-05-12T04:14:44.262882Z"
    }
   },
   "outputs": [],
   "source": [
    "# Replace NaN with \"No_Degree\"\n",
    "student_df['parental_education_level'] = student_df['parental_education_level'].fillna(\"No_Degree\")\n",
    "\n",
    "# Include dummy variables for columns containing binary values\n",
    "dummy_df1 = pd.get_dummies(student_df['part_time_job'], prefix='part_time', drop_first=True, dtype=int)\n",
    "dummy_df2 = pd.get_dummies(student_df['extracurricular_participation'], prefix='extra_part', drop_first=True, dtype=int)\n",
    "student_df = pd.concat([student_df, dummy_df1, dummy_df2], axis=1)\n",
    "\n",
    "# Create new columns corresponding to ordinal columns\n",
    "mapping = {'Female': 0, 'Male': 1, 'Other': 2}\n",
    "student_df['gender_num'] = student_df['gender'].map(mapping)\n",
    "\n",
    "mapping = {'Poor': 0, 'Fair': 1, 'Good': 2}\n",
    "student_df['diet_num'] = student_df['diet_quality'].map(mapping)\n",
    "\n",
    "mapping = {'Poor': 0, 'Average': 1, 'Good': 2}\n",
    "student_df['internet_num'] = student_df['internet_quality'].map(mapping)\n",
    "\n",
    "mapping = {'No_Degree': 0, 'High School': 1, 'Bachelor': 2, 'Master': 3}\n",
    "student_df['parent_ed_num'] = student_df['parental_education_level'].map(mapping)"
   ]
  },
  {
   "cell_type": "code",
   "execution_count": 55,
   "metadata": {
    "execution": {
     "iopub.execute_input": "2025-05-12T04:14:45.612931Z",
     "iopub.status.busy": "2025-05-12T04:14:45.612623Z",
     "iopub.status.idle": "2025-05-12T04:14:45.628473Z",
     "shell.execute_reply": "2025-05-12T04:14:45.627927Z",
     "shell.execute_reply.started": "2025-05-12T04:14:45.612910Z"
    }
   },
   "outputs": [
    {
     "name": "stdout",
     "output_type": "stream",
     "text": [
      "Dataset\n",
      "   age  gender  study_hours_per_day  social_media_hours  netflix_hours  \\\n",
      "0   23  Female                  0.0                 1.2            1.1   \n",
      "1   20  Female                  6.9                 2.8            2.3   \n",
      "2   21    Male                  1.4                 3.1            1.3   \n",
      "3   23  Female                  1.0                 3.9            1.0   \n",
      "4   19  Female                  5.0                 4.4            0.5   \n",
      "\n",
      "  part_time_job  attendance_percentage  sleep_hours diet_quality  \\\n",
      "0            No                   85.0          8.0         Fair   \n",
      "1            No                   97.3          4.6         Good   \n",
      "2            No                   94.8          8.0         Poor   \n",
      "3            No                   71.0          9.2         Poor   \n",
      "4            No                   90.9          4.9         Fair   \n",
      "\n",
      "   exercise_frequency  ... internet_quality mental_health_rating  \\\n",
      "0                   6  ...          Average                    8   \n",
      "1                   6  ...          Average                    8   \n",
      "2                   1  ...             Poor                    1   \n",
      "3                   4  ...             Good                    1   \n",
      "4                   3  ...             Good                    1   \n",
      "\n",
      "   extracurricular_participation exam_score  part_time_Yes  extra_part_Yes  \\\n",
      "0                            Yes       56.2              0               1   \n",
      "1                             No      100.0              0               0   \n",
      "2                             No       34.3              0               0   \n",
      "3                            Yes       26.8              0               1   \n",
      "4                             No       66.4              0               0   \n",
      "\n",
      "   gender_num  diet_num  internet_num  parent_ed_num  \n",
      "0           0         1             1              3  \n",
      "1           0         2             1              1  \n",
      "2           1         0             0              1  \n",
      "3           0         0             2              3  \n",
      "4           0         1             2              3  \n",
      "\n",
      "[5 rows x 21 columns]\n",
      "\n",
      "Dataset information\n",
      "<class 'pandas.core.frame.DataFrame'>\n",
      "RangeIndex: 1000 entries, 0 to 999\n",
      "Data columns (total 21 columns):\n",
      " #   Column                         Non-Null Count  Dtype  \n",
      "---  ------                         --------------  -----  \n",
      " 0   age                            1000 non-null   int64  \n",
      " 1   gender                         1000 non-null   object \n",
      " 2   study_hours_per_day            1000 non-null   float64\n",
      " 3   social_media_hours             1000 non-null   float64\n",
      " 4   netflix_hours                  1000 non-null   float64\n",
      " 5   part_time_job                  1000 non-null   object \n",
      " 6   attendance_percentage          1000 non-null   float64\n",
      " 7   sleep_hours                    1000 non-null   float64\n",
      " 8   diet_quality                   1000 non-null   object \n",
      " 9   exercise_frequency             1000 non-null   int64  \n",
      " 10  parental_education_level       1000 non-null   object \n",
      " 11  internet_quality               1000 non-null   object \n",
      " 12  mental_health_rating           1000 non-null   int64  \n",
      " 13  extracurricular_participation  1000 non-null   object \n",
      " 14  exam_score                     1000 non-null   float64\n",
      " 15  part_time_Yes                  1000 non-null   int64  \n",
      " 16  extra_part_Yes                 1000 non-null   int64  \n",
      " 17  gender_num                     1000 non-null   int64  \n",
      " 18  diet_num                       1000 non-null   int64  \n",
      " 19  internet_num                   1000 non-null   int64  \n",
      " 20  parent_ed_num                  1000 non-null   int64  \n",
      "dtypes: float64(6), int64(9), object(6)\n",
      "memory usage: 164.2+ KB\n",
      "None\n"
     ]
    }
   ],
   "source": [
    "# Check results\n",
    "print(\"Dataset\")\n",
    "print(student_df.head())\n",
    "print(\"\\nDataset information\")\n",
    "print(student_df.info())"
   ]
  },
  {
   "cell_type": "code",
   "execution_count": null,
   "metadata": {},
   "outputs": [],
   "source": []
  }
 ],
 "metadata": {
  "kernelspec": {
   "display_name": "anaconda-panel-2023.05-py310",
   "language": "python",
   "name": "conda-env-anaconda-panel-2023.05-py310-py"
  },
  "language_info": {
   "codemirror_mode": {
    "name": "ipython",
    "version": 3
   },
   "file_extension": ".py",
   "mimetype": "text/x-python",
   "name": "python",
   "nbconvert_exporter": "python",
   "pygments_lexer": "ipython3",
   "version": "3.11.5"
  }
 },
 "nbformat": 4,
 "nbformat_minor": 4
}
