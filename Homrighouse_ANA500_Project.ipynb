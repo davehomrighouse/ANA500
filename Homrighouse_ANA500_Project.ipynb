{
 "cells": [
  {
   "cell_type": "code",
   "execution_count": 107,
   "metadata": {
    "execution": {
     "iopub.execute_input": "2025-05-17T04:40:53.478744Z",
     "iopub.status.busy": "2025-05-17T04:40:53.478417Z",
     "iopub.status.idle": "2025-05-17T04:40:53.484451Z",
     "shell.execute_reply": "2025-05-17T04:40:53.483975Z",
     "shell.execute_reply.started": "2025-05-17T04:40:53.478723Z"
    },
    "nbgrader": {
     "grade": false,
     "grade_id": "cell-c4f70c6d3261a298",
     "locked": true,
     "schema_version": 3,
     "solution": false,
     "task": false
    }
   },
   "outputs": [],
   "source": [
    "from scipy import stats\n",
    "import pandas as pd\n",
    "import numpy as np\n",
    "\n",
    "###### Start of code #####\n",
    "\n",
    "hd_df = pd.read_csv('heart disease.csv')"
   ]
  },
  {
   "cell_type": "markdown",
   "metadata": {},
   "source": [
    "<b> Show Dataset attributes and descriptive stats"
   ]
  },
  {
   "cell_type": "code",
   "execution_count": 108,
   "metadata": {
    "execution": {
     "iopub.execute_input": "2025-05-17T04:40:54.989787Z",
     "iopub.status.busy": "2025-05-17T04:40:54.989514Z",
     "iopub.status.idle": "2025-05-17T04:40:55.012673Z",
     "shell.execute_reply": "2025-05-17T04:40:55.012081Z",
     "shell.execute_reply.started": "2025-05-17T04:40:54.989766Z"
    }
   },
   "outputs": [
    {
     "name": "stdout",
     "output_type": "stream",
     "text": [
      "Dataset\n",
      "   Age Sex ChestPainType  RestingBP  Cholesterol  FastingBS RestingECG  MaxHR  \\\n",
      "0   40   M           ATA        140          289          0     Normal    172   \n",
      "1   49   F           NAP        160          180          0     Normal    156   \n",
      "2   37   M           ATA        130          283          0         ST     98   \n",
      "3   48   F           ASY        138          214          0     Normal    108   \n",
      "4   54   M           NAP        150          195          0     Normal    122   \n",
      "\n",
      "  ExerciseAngina  Oldpeak ST_Slope  HeartDisease  \n",
      "0              N      0.0       Up             0  \n",
      "1              N      1.0     Flat             1  \n",
      "2              N      0.0       Up             0  \n",
      "3              Y      1.5     Flat             1  \n",
      "4              N      0.0       Up             0  \n",
      "\n",
      "Dataset information\n",
      "<class 'pandas.core.frame.DataFrame'>\n",
      "RangeIndex: 918 entries, 0 to 917\n",
      "Data columns (total 12 columns):\n",
      " #   Column          Non-Null Count  Dtype  \n",
      "---  ------          --------------  -----  \n",
      " 0   Age             918 non-null    int64  \n",
      " 1   Sex             918 non-null    object \n",
      " 2   ChestPainType   918 non-null    object \n",
      " 3   RestingBP       918 non-null    int64  \n",
      " 4   Cholesterol     918 non-null    int64  \n",
      " 5   FastingBS       918 non-null    int64  \n",
      " 6   RestingECG      918 non-null    object \n",
      " 7   MaxHR           918 non-null    int64  \n",
      " 8   ExerciseAngina  918 non-null    object \n",
      " 9   Oldpeak         918 non-null    float64\n",
      " 10  ST_Slope        918 non-null    object \n",
      " 11  HeartDisease    918 non-null    int64  \n",
      "dtypes: float64(1), int64(6), object(5)\n",
      "memory usage: 86.2+ KB\n",
      "None\n",
      "\n",
      "Descriptive Statistics\n",
      "              Age   RestingBP  Cholesterol   FastingBS       MaxHR  \\\n",
      "count  918.000000  918.000000   918.000000  918.000000  918.000000   \n",
      "mean    53.510893  132.396514   198.799564    0.233115  136.809368   \n",
      "std      9.432617   18.514154   109.384145    0.423046   25.460334   \n",
      "min     28.000000    0.000000     0.000000    0.000000   60.000000   \n",
      "25%     47.000000  120.000000   173.250000    0.000000  120.000000   \n",
      "50%     54.000000  130.000000   223.000000    0.000000  138.000000   \n",
      "75%     60.000000  140.000000   267.000000    0.000000  156.000000   \n",
      "max     77.000000  200.000000   603.000000    1.000000  202.000000   \n",
      "\n",
      "          Oldpeak  HeartDisease  \n",
      "count  918.000000    918.000000  \n",
      "mean     0.887364      0.553377  \n",
      "std      1.066570      0.497414  \n",
      "min     -2.600000      0.000000  \n",
      "25%      0.000000      0.000000  \n",
      "50%      0.600000      1.000000  \n",
      "75%      1.500000      1.000000  \n",
      "max      6.200000      1.000000  \n",
      "\n",
      "Duplicate rows:\n",
      " Empty DataFrame\n",
      "Columns: [Age, Sex, ChestPainType, RestingBP, Cholesterol, FastingBS, RestingECG, MaxHR, ExerciseAngina, Oldpeak, ST_Slope, HeartDisease]\n",
      "Index: []\n"
     ]
    }
   ],
   "source": [
    "# Dataset makeup\n",
    "print(\"Dataset\")\n",
    "print(hd_df.head())\n",
    "print(\"\\nDataset information\")\n",
    "print(hd_df.info())\n",
    "\n",
    "# Descriptive statistics\n",
    "print(\"\\nDescriptive Statistics\")\n",
    "print(hd_df.describe())\n",
    "\n",
    "# Duplicates?\n",
    "print(\"\\nDuplicate rows:\\n\", hd_df[hd_df.duplicated()])"
   ]
  },
  {
   "cell_type": "code",
   "execution_count": 109,
   "metadata": {
    "execution": {
     "iopub.execute_input": "2025-05-17T04:40:55.566227Z",
     "iopub.status.busy": "2025-05-17T04:40:55.566016Z",
     "iopub.status.idle": "2025-05-17T04:40:55.570505Z",
     "shell.execute_reply": "2025-05-17T04:40:55.569972Z",
     "shell.execute_reply.started": "2025-05-17T04:40:55.566211Z"
    }
   },
   "outputs": [
    {
     "name": "stdout",
     "output_type": "stream",
     "text": [
      "Number of zeros in RestingBP: 1\n",
      "Number of zeros in Age: 0\n",
      "Number of zeros in Cholesterol: 172\n"
     ]
    }
   ],
   "source": [
    "count_zeros_col = (hd_df['RestingBP'] == 0).sum()\n",
    "print(f\"Number of zeros in RestingBP: {count_zeros_col}\")\n",
    "\n",
    "count_zeros_col = (hd_df['Age'] == 0).sum()\n",
    "print(f\"Number of zeros in Age: {count_zeros_col}\")\n",
    "\n",
    "count_zeros_col = (hd_df['Cholesterol'] == 0).sum()\n",
    "print(f\"Number of zeros in Cholesterol: {count_zeros_col}\")"
   ]
  },
  {
   "cell_type": "markdown",
   "metadata": {},
   "source": [
    "<b> Drop rows where certain column values are 0.\n",
    "Rows will be fewer than 1% of data set."
   ]
  },
  {
   "cell_type": "code",
   "execution_count": 110,
   "metadata": {
    "execution": {
     "iopub.execute_input": "2025-05-17T04:40:57.557726Z",
     "iopub.status.busy": "2025-05-17T04:40:57.557442Z",
     "iopub.status.idle": "2025-05-17T04:40:57.561947Z",
     "shell.execute_reply": "2025-05-17T04:40:57.561436Z",
     "shell.execute_reply.started": "2025-05-17T04:40:57.557707Z"
    }
   },
   "outputs": [],
   "source": [
    "# Drop records with RestingBP = 0\n",
    "hd_df = hd_df[hd_df['RestingBP'] != 0]\n",
    "\n",
    "# Re-index after dropped rows\n",
    "hd_df = hd_df.reset_index(drop=True)"
   ]
  },
  {
   "cell_type": "markdown",
   "metadata": {},
   "source": [
    "<b> Show unique values of categorical columns for creating dummy variables"
   ]
  },
  {
   "cell_type": "code",
   "execution_count": 111,
   "metadata": {
    "execution": {
     "iopub.execute_input": "2025-05-17T04:41:01.526133Z",
     "iopub.status.busy": "2025-05-17T04:41:01.525816Z",
     "iopub.status.idle": "2025-05-17T04:41:01.531225Z",
     "shell.execute_reply": "2025-05-17T04:41:01.530718Z",
     "shell.execute_reply.started": "2025-05-17T04:41:01.526113Z"
    }
   },
   "outputs": [
    {
     "name": "stdout",
     "output_type": "stream",
     "text": [
      "Unique values in 'Sex': ['M', 'F']\n",
      "Unique values in 'ChestPainType': ['ATA', 'NAP', 'ASY', 'TA']\n",
      "Unique values in 'RestingECG': ['Normal', 'ST', 'LVH']\n",
      "Unique values in 'ExerciseAngina': ['N', 'Y']\n",
      "Unique values in 'ST_Slope': ['Up', 'Flat', 'Down']\n",
      "Unique values in 'FastingBS': [0, 1]\n"
     ]
    }
   ],
   "source": [
    "# Determine unique values in categorical columns\n",
    "cat_columns = ['Sex', 'ChestPainType', 'RestingECG', 'ExerciseAngina', 'ST_Slope', 'FastingBS']\n",
    "\n",
    "unique_values = {col: hd_df[col].unique().tolist() for col in cat_columns}\n",
    "\n",
    "for col, values in unique_values.items():\n",
    "    print(f\"Unique values in '{col}': {values}\")"
   ]
  },
  {
   "cell_type": "markdown",
   "metadata": {},
   "source": [
    "<b> Transform variables from single character to more descriptive names"
   ]
  },
  {
   "cell_type": "code",
   "execution_count": 112,
   "metadata": {
    "execution": {
     "iopub.execute_input": "2025-05-17T04:41:03.282513Z",
     "iopub.status.busy": "2025-05-17T04:41:03.281848Z",
     "iopub.status.idle": "2025-05-17T04:41:03.289077Z",
     "shell.execute_reply": "2025-05-17T04:41:03.288648Z",
     "shell.execute_reply.started": "2025-05-17T04:41:03.282485Z"
    }
   },
   "outputs": [],
   "source": [
    "# Change M/F to Male/Female so dummy variable column header makes more sense\n",
    "hd_df['Sex'] = hd_df['Sex'].replace({\n",
    "    'M': 'Male',\n",
    "    'F': 'Female'\n",
    "})\n",
    "\n",
    "# Change Y/N values to Yes/No so dummy variable column header makes more sense\n",
    "hd_df['ExerciseAngina'] = hd_df['ExerciseAngina'].replace({\n",
    "    'N': 'No',\n",
    "    'Y': 'Yes'\n",
    "})\n",
    "\n",
    "# Change 0/1 values to Yes/No so dummy variable column header makes more sense\n",
    "hd_df['FastingBS'] = hd_df['FastingBS'].replace({\n",
    "    0: 'No',\n",
    "    1: 'Yes'\n",
    "})\n"
   ]
  },
  {
   "cell_type": "markdown",
   "metadata": {},
   "source": [
    "<b> Create binary variables and mapping ordinal values"
   ]
  },
  {
   "cell_type": "code",
   "execution_count": 113,
   "metadata": {
    "execution": {
     "iopub.execute_input": "2025-05-17T04:41:05.165900Z",
     "iopub.status.busy": "2025-05-17T04:41:05.165621Z",
     "iopub.status.idle": "2025-05-17T04:41:05.176117Z",
     "shell.execute_reply": "2025-05-17T04:41:05.175590Z",
     "shell.execute_reply.started": "2025-05-17T04:41:05.165874Z"
    }
   },
   "outputs": [],
   "source": [
    "# Include dummy variables for columns containing binary values\n",
    "dummy_df1 = pd.get_dummies(hd_df['Sex'], prefix='Sex', drop_first=True, dtype=int)\n",
    "dummy_df2 = pd.get_dummies(hd_df['ExerciseAngina'], prefix='Ex_Ang', drop_first=True, dtype=int)\n",
    "dummy_df3 = pd.get_dummies(hd_df['FastingBS'], prefix='FastingBS', drop_first=True, dtype=int)\n",
    "hd_df = pd.concat([hd_df, dummy_df1, dummy_df2, dummy_df3], axis=1)\n",
    "\n",
    "# Create new columns corresponding to ordinal columns\n",
    "mapping = {'ASY': 0, 'NAP': 1, 'ATA': 2, 'TA': 3}\n",
    "hd_df['ChestPainType_num'] = hd_df['ChestPainType'].map(mapping)\n",
    "\n",
    "mapping = {'Normal': 0, 'ST': 1, 'LVH': 2}\n",
    "hd_df['RestingECG_num'] = hd_df['RestingECG'].map(mapping)\n",
    "\n",
    "mapping = {'Up': 0, 'Flat': 1, 'Down': 2}\n",
    "hd_df['ST_Slope_num'] = hd_df['ST_Slope'].map(mapping)"
   ]
  },
  {
   "cell_type": "markdown",
   "metadata": {},
   "source": [
    "<b> Impute values of cholesterol using PMM"
   ]
  },
  {
   "cell_type": "code",
   "execution_count": 122,
   "metadata": {
    "execution": {
     "iopub.execute_input": "2025-05-17T04:47:43.823353Z",
     "iopub.status.busy": "2025-05-17T04:47:43.823130Z",
     "iopub.status.idle": "2025-05-17T04:47:44.100045Z",
     "shell.execute_reply": "2025-05-17T04:47:44.099484Z",
     "shell.execute_reply.started": "2025-05-17T04:47:43.823336Z"
    }
   },
   "outputs": [],
   "source": [
    "# Initialize MICEData with the dataset\n",
    "from statsmodels.imputation.mice import MICEData\n",
    "import statsmodels.formula.api as smf\n",
    "\n",
    "cols_to_include = ['Cholesterol', 'Age', 'RestingBP', 'MaxHR', 'Oldpeak', 'Sex_Male', 'Ex_Ang_Yes',\n",
    "                   'FastingBS_Yes', 'ChestPainType_num', 'RestingECG_num', 'ST_Slope_num']\n",
    "\n",
    "hd_df['Cholesterol'] = hd_df['Cholesterol'].replace(0, np.nan)\n",
    "mice_data_df = hd_df[cols_to_include].copy()\n",
    "\n",
    "mice_data = MICEData(mice_data_df)\n",
    "\n",
    "# Specify imputation for Cholesterol using specific columns as predictors\n",
    "predictor_cols = 'Age + RestingBP + MaxHR + Oldpeak + Sex_Male + Ex_Ang_Yes + FastingBS_Yes + ChestPainType_num + RestingECG_num + ST_Slope_num'\n",
    "mice_data.set_imputer('Cholesterol', formula=predictor_cols)\n",
    "\n",
    "# Perform imputation using other columns as predictors\n",
    "mice_data.update_all(n_iter=10)  # Run MICE for 10 iterations\n",
    "\n",
    "# Get the imputed dataset\n",
    "imputed_data = mice_data.data"
   ]
  },
  {
   "cell_type": "code",
   "execution_count": 130,
   "metadata": {
    "execution": {
     "iopub.execute_input": "2025-05-17T04:54:50.875012Z",
     "iopub.status.busy": "2025-05-17T04:54:50.874718Z",
     "iopub.status.idle": "2025-05-17T04:54:50.883306Z",
     "shell.execute_reply": "2025-05-17T04:54:50.882854Z",
     "shell.execute_reply.started": "2025-05-17T04:54:50.874992Z"
    }
   },
   "outputs": [
    {
     "name": "stdout",
     "output_type": "stream",
     "text": [
      "\n",
      "Number of rows where Cholestoral = NaN:  171\n",
      "\n",
      "Number of rows where Imputed Cholestoral = 0:  0\n",
      "\n",
      "Number of rows where Imputed Cholestoral = NaN:  0\n",
      "\n",
      "      Cholesterol  Imputed_Cholesterol\n",
      "293          NaN                246.0\n",
      "294          NaN                159.0\n",
      "295          NaN                260.0\n",
      "296          NaN                182.0\n",
      "297          NaN                179.0\n",
      "..           ...                  ...\n",
      "513          NaN                246.0\n",
      "514          NaN                212.0\n",
      "517          NaN                126.0\n",
      "534          NaN                248.0\n",
      "535          NaN                243.0\n",
      "\n",
      "[171 rows x 2 columns]\n"
     ]
    }
   ],
   "source": [
    "# Extract only the imputed column Cholesterol and make new column to check imputing results\n",
    "hd_df['Imputed_Cholesterol'] = imputed_data['Cholesterol']\n",
    "\n",
    "# Print number of NaN values in original column\n",
    "print(\"\\nNumber of rows where Cholestoral = NaN: \", hd_df['Cholesterol'].isna().sum())\n",
    "\n",
    "# Print number of zero values in imputed column\n",
    "print(\"\\nNumber of rows where Imputed Cholestoral = 0: \",(hd_df['Imputed_Cholesterol'] == 0).sum())\n",
    "\n",
    "# Print number of NaN values in imputed column\n",
    "print(\"\\nNumber of rows where Imputed Cholestoral = NaN: \",hd_df['Imputed_Cholesterol'].isna().sum())\n",
    "\n",
    "# Side-by-side comparison\n",
    "print(\"\\n\",hd_df.loc[hd_df['Imputed_Cholesterol'] != hd_df['Cholesterol'], ['Cholesterol', 'Imputed_Cholesterol']])\n",
    "\n"
   ]
  },
  {
   "cell_type": "markdown",
   "metadata": {},
   "source": [
    "<b> Display results after preparation"
   ]
  },
  {
   "cell_type": "code",
   "execution_count": 131,
   "metadata": {
    "execution": {
     "iopub.execute_input": "2025-05-17T04:54:59.795822Z",
     "iopub.status.busy": "2025-05-17T04:54:59.795606Z",
     "iopub.status.idle": "2025-05-17T04:54:59.826417Z",
     "shell.execute_reply": "2025-05-17T04:54:59.825847Z",
     "shell.execute_reply.started": "2025-05-17T04:54:59.795806Z"
    }
   },
   "outputs": [
    {
     "name": "stdout",
     "output_type": "stream",
     "text": [
      "Dataset\n",
      "   Age     Sex ChestPainType  RestingBP  Cholesterol FastingBS RestingECG  \\\n",
      "0   40    Male           ATA        140        289.0        No     Normal   \n",
      "1   49  Female           NAP        160        180.0        No     Normal   \n",
      "2   37    Male           ATA        130        283.0        No         ST   \n",
      "3   48  Female           ASY        138        214.0        No     Normal   \n",
      "4   54    Male           NAP        150        195.0        No     Normal   \n",
      "\n",
      "   MaxHR ExerciseAngina  Oldpeak ST_Slope  HeartDisease  Sex_Male  Ex_Ang_Yes  \\\n",
      "0    172             No      0.0       Up             0         1           0   \n",
      "1    156             No      1.0     Flat             1         0           0   \n",
      "2     98             No      0.0       Up             0         1           0   \n",
      "3    108            Yes      1.5     Flat             1         0           1   \n",
      "4    122             No      0.0       Up             0         1           0   \n",
      "\n",
      "   FastingBS_Yes  ChestPainType_num  RestingECG_num  ST_Slope_num  \\\n",
      "0              0                  2               0             0   \n",
      "1              0                  1               0             1   \n",
      "2              0                  2               1             0   \n",
      "3              0                  0               0             1   \n",
      "4              0                  1               0             0   \n",
      "\n",
      "   Imputed_Cholesterol  \n",
      "0                289.0  \n",
      "1                180.0  \n",
      "2                283.0  \n",
      "3                214.0  \n",
      "4                195.0  \n",
      "\n",
      "Dataset information\n",
      "<class 'pandas.core.frame.DataFrame'>\n",
      "RangeIndex: 917 entries, 0 to 916\n",
      "Data columns (total 19 columns):\n",
      " #   Column               Non-Null Count  Dtype  \n",
      "---  ------               --------------  -----  \n",
      " 0   Age                  917 non-null    int64  \n",
      " 1   Sex                  917 non-null    object \n",
      " 2   ChestPainType        917 non-null    object \n",
      " 3   RestingBP            917 non-null    int64  \n",
      " 4   Cholesterol          746 non-null    float64\n",
      " 5   FastingBS            917 non-null    object \n",
      " 6   RestingECG           917 non-null    object \n",
      " 7   MaxHR                917 non-null    int64  \n",
      " 8   ExerciseAngina       917 non-null    object \n",
      " 9   Oldpeak              917 non-null    float64\n",
      " 10  ST_Slope             917 non-null    object \n",
      " 11  HeartDisease         917 non-null    int64  \n",
      " 12  Sex_Male             917 non-null    int64  \n",
      " 13  Ex_Ang_Yes           917 non-null    int64  \n",
      " 14  FastingBS_Yes        917 non-null    int64  \n",
      " 15  ChestPainType_num    917 non-null    int64  \n",
      " 16  RestingECG_num       917 non-null    int64  \n",
      " 17  ST_Slope_num         917 non-null    int64  \n",
      " 18  Imputed_Cholesterol  917 non-null    float64\n",
      "dtypes: float64(3), int64(10), object(6)\n",
      "memory usage: 136.2+ KB\n",
      "None\n",
      "\n",
      "Descriptive Statistics\n",
      "              Age   RestingBP  Cholesterol       MaxHR     Oldpeak  \\\n",
      "count  917.000000  917.000000   746.000000  917.000000  917.000000   \n",
      "mean    53.509269  132.540894   244.635389  136.789531    0.886696   \n",
      "std      9.437636   17.999749    59.153524   25.467129    1.066960   \n",
      "min     28.000000   80.000000    85.000000   60.000000   -2.600000   \n",
      "25%     47.000000  120.000000   207.250000  120.000000    0.000000   \n",
      "50%     54.000000  130.000000   237.000000  138.000000    0.600000   \n",
      "75%     60.000000  140.000000   275.000000  156.000000    1.500000   \n",
      "max     77.000000  200.000000   603.000000  202.000000    6.200000   \n",
      "\n",
      "       HeartDisease    Sex_Male  Ex_Ang_Yes  FastingBS_Yes  ChestPainType_num  \\\n",
      "count    917.000000  917.000000  917.000000     917.000000         917.000000   \n",
      "mean       0.552890    0.789531    0.404580       0.233370           0.748092   \n",
      "std        0.497466    0.407864    0.491078       0.423206           0.931502   \n",
      "min        0.000000    0.000000    0.000000       0.000000           0.000000   \n",
      "25%        0.000000    1.000000    0.000000       0.000000           0.000000   \n",
      "50%        1.000000    1.000000    0.000000       0.000000           0.000000   \n",
      "75%        1.000000    1.000000    1.000000       0.000000           1.000000   \n",
      "max        1.000000    1.000000    1.000000       1.000000           3.000000   \n",
      "\n",
      "       RestingECG_num  ST_Slope_num  Imputed_Cholesterol  \n",
      "count      917.000000     917.00000           917.000000  \n",
      "mean         0.604144       0.63795           244.396947  \n",
      "std          0.806161       0.60727            58.699121  \n",
      "min          0.000000       0.00000            85.000000  \n",
      "25%          0.000000       0.00000           208.000000  \n",
      "50%          0.000000       1.00000           238.000000  \n",
      "75%          1.000000       1.00000           275.000000  \n",
      "max          2.000000       2.00000           603.000000  \n"
     ]
    }
   ],
   "source": [
    "# Check results\n",
    "print(\"Dataset\")\n",
    "print(hd_df.head())\n",
    "print(\"\\nDataset information\")\n",
    "print(hd_df.info())\n",
    "# Descriptive statistics\n",
    "print(\"\\nDescriptive Statistics\")\n",
    "print(hd_df.describe())"
   ]
  },
  {
   "cell_type": "code",
   "execution_count": null,
   "metadata": {},
   "outputs": [],
   "source": []
  }
 ],
 "metadata": {
  "kernelspec": {
   "display_name": "anaconda-panel-2023.05-py310",
   "language": "python",
   "name": "conda-env-anaconda-panel-2023.05-py310-py"
  },
  "language_info": {
   "codemirror_mode": {
    "name": "ipython",
    "version": 3
   },
   "file_extension": ".py",
   "mimetype": "text/x-python",
   "name": "python",
   "nbconvert_exporter": "python",
   "pygments_lexer": "ipython3",
   "version": "3.11.5"
  }
 },
 "nbformat": 4,
 "nbformat_minor": 4
}
