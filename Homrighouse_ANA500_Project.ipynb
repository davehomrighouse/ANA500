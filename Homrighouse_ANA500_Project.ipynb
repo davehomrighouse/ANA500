{
 "cells": [
  {
   "cell_type": "code",
   "execution_count": 1,
   "metadata": {
    "execution": {
     "iopub.execute_input": "2025-06-02T06:05:25.593670Z",
     "iopub.status.busy": "2025-06-02T06:05:25.593378Z",
     "iopub.status.idle": "2025-06-02T06:05:26.412313Z",
     "shell.execute_reply": "2025-06-02T06:05:26.411683Z",
     "shell.execute_reply.started": "2025-06-02T06:05:25.593653Z"
    },
    "nbgrader": {
     "grade": false,
     "grade_id": "cell-c4f70c6d3261a298",
     "locked": true,
     "schema_version": 3,
     "solution": false,
     "task": false
    }
   },
   "outputs": [],
   "source": [
    "from scipy import stats\n",
    "import pandas as pd\n",
    "import numpy as np\n",
    "\n",
    "# Read data set\n",
    "hd_df = pd.read_csv('heart disease.csv')"
   ]
  },
  {
   "cell_type": "markdown",
   "metadata": {},
   "source": [
    "## Show Dataset attributes and descriptive stats"
   ]
  },
  {
   "cell_type": "code",
   "execution_count": 2,
   "metadata": {
    "execution": {
     "iopub.execute_input": "2025-06-02T06:05:26.426445Z",
     "iopub.status.busy": "2025-06-02T06:05:26.426030Z",
     "iopub.status.idle": "2025-06-02T06:05:26.457896Z",
     "shell.execute_reply": "2025-06-02T06:05:26.457346Z",
     "shell.execute_reply.started": "2025-06-02T06:05:26.426419Z"
    }
   },
   "outputs": [
    {
     "name": "stdout",
     "output_type": "stream",
     "text": [
      "Dataset\n",
      "   Age Sex ChestPainType  RestingBP  Cholesterol  FastingBS RestingECG  MaxHR  \\\n",
      "0   40   M           ATA        140          289          0     Normal    172   \n",
      "1   49   F           NAP        160          180          0     Normal    156   \n",
      "2   37   M           ATA        130          283          0         ST     98   \n",
      "3   48   F           ASY        138          214          0     Normal    108   \n",
      "4   54   M           NAP        150          195          0     Normal    122   \n",
      "\n",
      "  ExerciseAngina  Oldpeak ST_Slope  HeartDisease  \n",
      "0              N      0.0       Up             0  \n",
      "1              N      1.0     Flat             1  \n",
      "2              N      0.0       Up             0  \n",
      "3              Y      1.5     Flat             1  \n",
      "4              N      0.0       Up             0  \n",
      "\n",
      "Dataset information\n",
      "<class 'pandas.core.frame.DataFrame'>\n",
      "RangeIndex: 918 entries, 0 to 917\n",
      "Data columns (total 12 columns):\n",
      " #   Column          Non-Null Count  Dtype  \n",
      "---  ------          --------------  -----  \n",
      " 0   Age             918 non-null    int64  \n",
      " 1   Sex             918 non-null    object \n",
      " 2   ChestPainType   918 non-null    object \n",
      " 3   RestingBP       918 non-null    int64  \n",
      " 4   Cholesterol     918 non-null    int64  \n",
      " 5   FastingBS       918 non-null    int64  \n",
      " 6   RestingECG      918 non-null    object \n",
      " 7   MaxHR           918 non-null    int64  \n",
      " 8   ExerciseAngina  918 non-null    object \n",
      " 9   Oldpeak         918 non-null    float64\n",
      " 10  ST_Slope        918 non-null    object \n",
      " 11  HeartDisease    918 non-null    int64  \n",
      "dtypes: float64(1), int64(6), object(5)\n",
      "memory usage: 86.2+ KB\n",
      "None\n",
      "\n",
      "Descriptive Statistics\n",
      "              Age   RestingBP  Cholesterol   FastingBS       MaxHR  \\\n",
      "count  918.000000  918.000000   918.000000  918.000000  918.000000   \n",
      "mean    53.510893  132.396514   198.799564    0.233115  136.809368   \n",
      "std      9.432617   18.514154   109.384145    0.423046   25.460334   \n",
      "min     28.000000    0.000000     0.000000    0.000000   60.000000   \n",
      "25%     47.000000  120.000000   173.250000    0.000000  120.000000   \n",
      "50%     54.000000  130.000000   223.000000    0.000000  138.000000   \n",
      "75%     60.000000  140.000000   267.000000    0.000000  156.000000   \n",
      "max     77.000000  200.000000   603.000000    1.000000  202.000000   \n",
      "\n",
      "          Oldpeak  HeartDisease  \n",
      "count  918.000000    918.000000  \n",
      "mean     0.887364      0.553377  \n",
      "std      1.066570      0.497414  \n",
      "min     -2.600000      0.000000  \n",
      "25%      0.000000      0.000000  \n",
      "50%      0.600000      1.000000  \n",
      "75%      1.500000      1.000000  \n",
      "max      6.200000      1.000000  \n",
      "\n",
      "Duplicate rows:\n",
      " Empty DataFrame\n",
      "Columns: [Age, Sex, ChestPainType, RestingBP, Cholesterol, FastingBS, RestingECG, MaxHR, ExerciseAngina, Oldpeak, ST_Slope, HeartDisease]\n",
      "Index: []\n"
     ]
    }
   ],
   "source": [
    "# Dataset makeup\n",
    "print(\"Dataset\")\n",
    "print(hd_df.head())\n",
    "print(\"\\nDataset information\")\n",
    "print(hd_df.info())\n",
    "\n",
    "# Descriptive statistics\n",
    "print(\"\\nDescriptive Statistics\")\n",
    "print(hd_df.describe())\n",
    "\n",
    "# Duplicates?\n",
    "print(\"\\nDuplicate rows:\\n\", hd_df[hd_df.duplicated()])"
   ]
  },
  {
   "cell_type": "code",
   "execution_count": 3,
   "metadata": {
    "execution": {
     "iopub.execute_input": "2025-06-02T06:05:26.458864Z",
     "iopub.status.busy": "2025-06-02T06:05:26.458631Z",
     "iopub.status.idle": "2025-06-02T06:05:26.463075Z",
     "shell.execute_reply": "2025-06-02T06:05:26.462618Z",
     "shell.execute_reply.started": "2025-06-02T06:05:26.458845Z"
    }
   },
   "outputs": [
    {
     "name": "stdout",
     "output_type": "stream",
     "text": [
      "Number of zeros in RestingBP: 1\n",
      "Number of zeros in Age: 0\n",
      "Number of zeros in Cholesterol: 172\n"
     ]
    }
   ],
   "source": [
    "count_zeros_col = (hd_df['RestingBP'] == 0).sum()\n",
    "print(f\"Number of zeros in RestingBP: {count_zeros_col}\")\n",
    "\n",
    "count_zeros_col = (hd_df['Age'] == 0).sum()\n",
    "print(f\"Number of zeros in Age: {count_zeros_col}\")\n",
    "\n",
    "count_zeros_col = (hd_df['Cholesterol'] == 0).sum()\n",
    "print(f\"Number of zeros in Cholesterol: {count_zeros_col}\")"
   ]
  },
  {
   "cell_type": "markdown",
   "metadata": {},
   "source": [
    "## Drop rows where certain column values are 0.\n",
    "### Rows will be fewer than 1% of data set."
   ]
  },
  {
   "cell_type": "code",
   "execution_count": 4,
   "metadata": {
    "execution": {
     "iopub.execute_input": "2025-06-02T06:05:26.477706Z",
     "iopub.status.busy": "2025-06-02T06:05:26.477244Z",
     "iopub.status.idle": "2025-06-02T06:05:26.487918Z",
     "shell.execute_reply": "2025-06-02T06:05:26.487402Z",
     "shell.execute_reply.started": "2025-06-02T06:05:26.477686Z"
    }
   },
   "outputs": [],
   "source": [
    "# Drop records with RestingBP = 0\n",
    "hd_df = hd_df[hd_df['RestingBP'] != 0]\n",
    "\n",
    "# Re-index after dropped rows\n",
    "hd_df = hd_df.reset_index(drop=True)"
   ]
  },
  {
   "cell_type": "markdown",
   "metadata": {},
   "source": [
    "## Show unique values of categorical columns for creating dummy variables"
   ]
  },
  {
   "cell_type": "code",
   "execution_count": 5,
   "metadata": {
    "execution": {
     "iopub.execute_input": "2025-06-02T06:05:26.501786Z",
     "iopub.status.busy": "2025-06-02T06:05:26.501567Z",
     "iopub.status.idle": "2025-06-02T06:05:26.507418Z",
     "shell.execute_reply": "2025-06-02T06:05:26.506891Z",
     "shell.execute_reply.started": "2025-06-02T06:05:26.501769Z"
    }
   },
   "outputs": [
    {
     "name": "stdout",
     "output_type": "stream",
     "text": [
      "Unique values in 'Sex': ['M', 'F']\n",
      "Unique values in 'ChestPainType': ['ATA', 'NAP', 'ASY', 'TA']\n",
      "Unique values in 'RestingECG': ['Normal', 'ST', 'LVH']\n",
      "Unique values in 'ExerciseAngina': ['N', 'Y']\n",
      "Unique values in 'ST_Slope': ['Up', 'Flat', 'Down']\n",
      "Unique values in 'FastingBS': [0, 1]\n"
     ]
    }
   ],
   "source": [
    "# Determine unique values in categorical columns\n",
    "cat_columns = ['Sex', 'ChestPainType', 'RestingECG', 'ExerciseAngina', 'ST_Slope', 'FastingBS']\n",
    "\n",
    "unique_values = {col: hd_df[col].unique().tolist() for col in cat_columns}\n",
    "\n",
    "for col, values in unique_values.items():\n",
    "    print(f\"Unique values in '{col}': {values}\")"
   ]
  },
  {
   "cell_type": "markdown",
   "metadata": {},
   "source": [
    "## Transform variables from single character to more descriptive names"
   ]
  },
  {
   "cell_type": "code",
   "execution_count": 6,
   "metadata": {
    "execution": {
     "iopub.execute_input": "2025-06-02T06:05:26.520722Z",
     "iopub.status.busy": "2025-06-02T06:05:26.520504Z",
     "iopub.status.idle": "2025-06-02T06:05:26.534668Z",
     "shell.execute_reply": "2025-06-02T06:05:26.534063Z",
     "shell.execute_reply.started": "2025-06-02T06:05:26.520705Z"
    }
   },
   "outputs": [],
   "source": [
    "# Change M/F to Male/Female so dummy variable column header makes more sense\n",
    "hd_df['Sex'] = hd_df['Sex'].replace({\n",
    "    'M': 'Male',\n",
    "    'F': 'Female'\n",
    "})\n",
    "\n",
    "# Change Y/N values to Yes/No so dummy variable column header makes more sense\n",
    "hd_df['ExerciseAngina'] = hd_df['ExerciseAngina'].replace({\n",
    "    'N': 'No',\n",
    "    'Y': 'Yes'\n",
    "})\n",
    "\n",
    "# Change 0/1 values to Yes/No so dummy variable column header makes more sense\n",
    "hd_df['FastingBS'] = hd_df['FastingBS'].replace({\n",
    "    0: 'No',\n",
    "    1: 'Yes'\n",
    "})\n"
   ]
  },
  {
   "cell_type": "markdown",
   "metadata": {},
   "source": [
    "## Create binary variables"
   ]
  },
  {
   "cell_type": "code",
   "execution_count": 7,
   "metadata": {
    "execution": {
     "iopub.execute_input": "2025-06-02T06:05:26.549381Z",
     "iopub.status.busy": "2025-06-02T06:05:26.549128Z",
     "iopub.status.idle": "2025-06-02T06:05:26.560064Z",
     "shell.execute_reply": "2025-06-02T06:05:26.559539Z",
     "shell.execute_reply.started": "2025-06-02T06:05:26.549363Z"
    }
   },
   "outputs": [],
   "source": [
    "# Include dummy variables for columns containing binary values\n",
    "dummy_df1 = pd.get_dummies(hd_df['Sex'], prefix='Sex', drop_first=True, dtype=int)\n",
    "dummy_df2 = pd.get_dummies(hd_df['ExerciseAngina'], prefix='Ex_Ang', drop_first=True, dtype=int)\n",
    "dummy_df3 = pd.get_dummies(hd_df['FastingBS'], prefix='FastingBS', drop_first=True, dtype=int)\n",
    "dummy_df4 = pd.get_dummies(hd_df['ChestPainType'], prefix='ChestPainType', drop_first=True, dtype=int)\n",
    "dummy_df5 = pd.get_dummies(hd_df['RestingECG'], prefix='RestingECG', drop_first=True, dtype=int)\n",
    "dummy_df6 = pd.get_dummies(hd_df['ST_Slope'], prefix='ST_Slope', drop_first=True, dtype=int)\n",
    "\n",
    "hd_df = pd.concat([hd_df, dummy_df1, dummy_df2, dummy_df3, dummy_df4, dummy_df5, dummy_df6], axis=1)\n"
   ]
  },
  {
   "cell_type": "markdown",
   "metadata": {},
   "source": [
    "## Create category version of target variable for EDA purposes\n",
    "#### (Keep binary variable for model learning)"
   ]
  },
  {
   "cell_type": "code",
   "execution_count": 8,
   "metadata": {
    "execution": {
     "iopub.execute_input": "2025-06-02T06:05:26.578966Z",
     "iopub.status.busy": "2025-06-02T06:05:26.578757Z",
     "iopub.status.idle": "2025-06-02T06:05:26.583063Z",
     "shell.execute_reply": "2025-06-02T06:05:26.582458Z",
     "shell.execute_reply.started": "2025-06-02T06:05:26.578948Z"
    }
   },
   "outputs": [],
   "source": [
    "hd_df['HeartDisease_Category'] = hd_df['HeartDisease'].map({0: 'No', 1: 'Yes'})"
   ]
  },
  {
   "cell_type": "markdown",
   "metadata": {},
   "source": [
    "## Impute values of cholesterol using PMM"
   ]
  },
  {
   "cell_type": "code",
   "execution_count": 9,
   "metadata": {
    "execution": {
     "iopub.execute_input": "2025-06-02T06:05:26.600048Z",
     "iopub.status.busy": "2025-06-02T06:05:26.599592Z",
     "iopub.status.idle": "2025-06-02T06:05:27.304337Z",
     "shell.execute_reply": "2025-06-02T06:05:27.303688Z",
     "shell.execute_reply.started": "2025-06-02T06:05:26.600026Z"
    }
   },
   "outputs": [],
   "source": [
    "# Initialize MICEData with the dataset\n",
    "from statsmodels.imputation.mice import MICEData\n",
    "import statsmodels.formula.api as smf\n",
    "\n",
    "cols_to_include = ['Cholesterol', 'Age', 'RestingBP', 'MaxHR', 'Oldpeak', 'Sex_Male', 'Ex_Ang_Yes',\n",
    "                   'FastingBS_Yes', 'ChestPainType_ATA', 'ChestPainType_NAP', 'ChestPainType_TA',\n",
    "                   'RestingECG_Normal', 'RestingECG_ST', 'ST_Slope_Flat', 'ST_Slope_Up']\n",
    "\n",
    "# Zeros are treated as true values rather than values to be imputed.\n",
    "# Replacing the zeros with null will allow the impute algorithm to work as intended\n",
    "hd_df['Cholesterol'] = hd_df['Cholesterol'].replace(0, np.nan)\n",
    "\n",
    "mice_data_df = hd_df[cols_to_include].copy() # Algorithm requires numeric columns for predictors\n",
    "\n",
    "mice_data = MICEData(mice_data_df)\n",
    "\n",
    "# Specify imputation for Cholesterol using numeric columns\n",
    "predictor_cols = 'Age + RestingBP + MaxHR + Oldpeak + Sex_Male + Ex_Ang_Yes + FastingBS_Yes + ChestPainType_NAP + ChestPainType_TA + RestingECG_Normal + RestingECG_ST + ST_Slope_Flat + ST_Slope_Up'\n",
    "mice_data.set_imputer('Cholesterol', formula=predictor_cols)\n",
    "\n",
    "mice_data.update_all(n_iter=10)  # Run MICE for 10 iterations\n",
    "\n",
    "# Get the imputed dataset\n",
    "imputed_data = mice_data.data"
   ]
  },
  {
   "cell_type": "code",
   "execution_count": 10,
   "metadata": {
    "execution": {
     "iopub.execute_input": "2025-06-02T06:05:27.305926Z",
     "iopub.status.busy": "2025-06-02T06:05:27.305437Z",
     "iopub.status.idle": "2025-06-02T06:05:27.318952Z",
     "shell.execute_reply": "2025-06-02T06:05:27.318358Z",
     "shell.execute_reply.started": "2025-06-02T06:05:27.305904Z"
    }
   },
   "outputs": [
    {
     "name": "stdout",
     "output_type": "stream",
     "text": [
      "\n",
      "Number of rows where Cholestoral = NaN:  171\n",
      "\n",
      "Number of rows where Imputed Cholestoral = 0:  0\n",
      "\n",
      "Number of rows where Imputed Cholestoral = NaN:  0\n",
      "\n",
      "      Cholesterol  Imputed_Cholesterol\n",
      "293          NaN                175.0\n",
      "294          NaN                249.0\n",
      "295          NaN                205.0\n",
      "296          NaN                219.0\n",
      "297          NaN                235.0\n",
      "..           ...                  ...\n",
      "513          NaN                275.0\n",
      "514          NaN                309.0\n",
      "517          NaN                335.0\n",
      "534          NaN                305.0\n",
      "535          NaN                241.0\n",
      "\n",
      "[171 rows x 2 columns]\n"
     ]
    }
   ],
   "source": [
    "# Extract only the imputed column Cholesterol and make new column to check imputing results\n",
    "hd_df['Imputed_Cholesterol'] = imputed_data['Cholesterol']\n",
    "\n",
    "# Print number of NaN values in original column\n",
    "print(\"\\nNumber of rows where Cholestoral = NaN: \", hd_df['Cholesterol'].isna().sum())\n",
    "\n",
    "# Print number of zero values in imputed column\n",
    "print(\"\\nNumber of rows where Imputed Cholestoral = 0: \",(hd_df['Imputed_Cholesterol'] == 0).sum())\n",
    "\n",
    "# Print number of NaN values in imputed column\n",
    "print(\"\\nNumber of rows where Imputed Cholestoral = NaN: \",hd_df['Imputed_Cholesterol'].isna().sum())\n",
    "\n",
    "# Side-by-side comparison\n",
    "print(\"\\n\",hd_df.loc[hd_df['Imputed_Cholesterol'] != hd_df['Cholesterol'], ['Cholesterol', 'Imputed_Cholesterol']])\n"
   ]
  },
  {
   "cell_type": "markdown",
   "metadata": {},
   "source": [
    "## Display results after preparation"
   ]
  },
  {
   "cell_type": "code",
   "execution_count": 11,
   "metadata": {
    "execution": {
     "iopub.execute_input": "2025-06-02T06:05:27.358208Z",
     "iopub.status.busy": "2025-06-02T06:05:27.357834Z",
     "iopub.status.idle": "2025-06-02T06:05:27.412205Z",
     "shell.execute_reply": "2025-06-02T06:05:27.411550Z",
     "shell.execute_reply.started": "2025-06-02T06:05:27.358186Z"
    }
   },
   "outputs": [
    {
     "name": "stdout",
     "output_type": "stream",
     "text": [
      "Dataset\n",
      "   Age     Sex ChestPainType  RestingBP  Cholesterol FastingBS RestingECG  \\\n",
      "0   40    Male           ATA        140        289.0        No     Normal   \n",
      "1   49  Female           NAP        160        180.0        No     Normal   \n",
      "2   37    Male           ATA        130        283.0        No         ST   \n",
      "3   48  Female           ASY        138        214.0        No     Normal   \n",
      "4   54    Male           NAP        150        195.0        No     Normal   \n",
      "\n",
      "   MaxHR ExerciseAngina  Oldpeak  ... FastingBS_Yes  ChestPainType_ATA  \\\n",
      "0    172             No      0.0  ...             0                  1   \n",
      "1    156             No      1.0  ...             0                  0   \n",
      "2     98             No      0.0  ...             0                  1   \n",
      "3    108            Yes      1.5  ...             0                  0   \n",
      "4    122             No      0.0  ...             0                  0   \n",
      "\n",
      "   ChestPainType_NAP  ChestPainType_TA  RestingECG_Normal  RestingECG_ST  \\\n",
      "0                  0                 0                  1              0   \n",
      "1                  1                 0                  1              0   \n",
      "2                  0                 0                  0              1   \n",
      "3                  0                 0                  1              0   \n",
      "4                  1                 0                  1              0   \n",
      "\n",
      "   ST_Slope_Flat  ST_Slope_Up  HeartDisease_Category  Imputed_Cholesterol  \n",
      "0              0            1                     No                289.0  \n",
      "1              1            0                    Yes                180.0  \n",
      "2              0            1                     No                283.0  \n",
      "3              1            0                    Yes                214.0  \n",
      "4              0            1                     No                195.0  \n",
      "\n",
      "[5 rows x 24 columns]\n",
      "\n",
      "Dataset information\n",
      "<class 'pandas.core.frame.DataFrame'>\n",
      "RangeIndex: 917 entries, 0 to 916\n",
      "Data columns (total 24 columns):\n",
      " #   Column                 Non-Null Count  Dtype  \n",
      "---  ------                 --------------  -----  \n",
      " 0   Age                    917 non-null    int64  \n",
      " 1   Sex                    917 non-null    object \n",
      " 2   ChestPainType          917 non-null    object \n",
      " 3   RestingBP              917 non-null    int64  \n",
      " 4   Cholesterol            746 non-null    float64\n",
      " 5   FastingBS              917 non-null    object \n",
      " 6   RestingECG             917 non-null    object \n",
      " 7   MaxHR                  917 non-null    int64  \n",
      " 8   ExerciseAngina         917 non-null    object \n",
      " 9   Oldpeak                917 non-null    float64\n",
      " 10  ST_Slope               917 non-null    object \n",
      " 11  HeartDisease           917 non-null    int64  \n",
      " 12  Sex_Male               917 non-null    int64  \n",
      " 13  Ex_Ang_Yes             917 non-null    int64  \n",
      " 14  FastingBS_Yes          917 non-null    int64  \n",
      " 15  ChestPainType_ATA      917 non-null    int64  \n",
      " 16  ChestPainType_NAP      917 non-null    int64  \n",
      " 17  ChestPainType_TA       917 non-null    int64  \n",
      " 18  RestingECG_Normal      917 non-null    int64  \n",
      " 19  RestingECG_ST          917 non-null    int64  \n",
      " 20  ST_Slope_Flat          917 non-null    int64  \n",
      " 21  ST_Slope_Up            917 non-null    int64  \n",
      " 22  HeartDisease_Category  917 non-null    object \n",
      " 23  Imputed_Cholesterol    917 non-null    float64\n",
      "dtypes: float64(3), int64(14), object(7)\n",
      "memory usage: 172.1+ KB\n",
      "None\n",
      "\n",
      "Descriptive Statistics\n",
      "              Age   RestingBP  Cholesterol       MaxHR     Oldpeak  \\\n",
      "count  917.000000  917.000000   746.000000  917.000000  917.000000   \n",
      "mean    53.509269  132.540894   244.635389  136.789531    0.886696   \n",
      "std      9.437636   17.999749    59.153524   25.467129    1.066960   \n",
      "min     28.000000   80.000000    85.000000   60.000000   -2.600000   \n",
      "25%     47.000000  120.000000   207.250000  120.000000    0.000000   \n",
      "50%     54.000000  130.000000   237.000000  138.000000    0.600000   \n",
      "75%     60.000000  140.000000   275.000000  156.000000    1.500000   \n",
      "max     77.000000  200.000000   603.000000  202.000000    6.200000   \n",
      "\n",
      "       HeartDisease    Sex_Male  Ex_Ang_Yes  FastingBS_Yes  ChestPainType_ATA  \\\n",
      "count    917.000000  917.000000  917.000000     917.000000         917.000000   \n",
      "mean       0.552890    0.789531    0.404580       0.233370           0.188659   \n",
      "std        0.497466    0.407864    0.491078       0.423206           0.391451   \n",
      "min        0.000000    0.000000    0.000000       0.000000           0.000000   \n",
      "25%        0.000000    1.000000    0.000000       0.000000           0.000000   \n",
      "50%        1.000000    1.000000    0.000000       0.000000           0.000000   \n",
      "75%        1.000000    1.000000    1.000000       0.000000           0.000000   \n",
      "max        1.000000    1.000000    1.000000       1.000000           1.000000   \n",
      "\n",
      "       ChestPainType_NAP  ChestPainType_TA  RestingECG_Normal  RestingECG_ST  \\\n",
      "count         917.000000        917.000000         917.000000     917.000000   \n",
      "mean            0.220284          0.050164           0.600872       0.194111   \n",
      "std             0.414664          0.218401           0.489986       0.395731   \n",
      "min             0.000000          0.000000           0.000000       0.000000   \n",
      "25%             0.000000          0.000000           0.000000       0.000000   \n",
      "50%             0.000000          0.000000           1.000000       0.000000   \n",
      "75%             0.000000          0.000000           1.000000       0.000000   \n",
      "max             1.000000          1.000000           1.000000       1.000000   \n",
      "\n",
      "       ST_Slope_Flat  ST_Slope_Up  Imputed_Cholesterol  \n",
      "count     917.000000   917.000000           917.000000  \n",
      "mean        0.500545     0.430752           242.375136  \n",
      "std         0.500273     0.495452            56.999166  \n",
      "min         0.000000     0.000000            85.000000  \n",
      "25%         0.000000     0.000000           207.000000  \n",
      "50%         1.000000     0.000000           235.000000  \n",
      "75%         1.000000     1.000000           273.000000  \n",
      "max         1.000000     1.000000           603.000000  \n"
     ]
    }
   ],
   "source": [
    "# Check results\n",
    "print(\"Dataset\")\n",
    "print(hd_df.head())\n",
    "print(\"\\nDataset information\")\n",
    "print(hd_df.info())\n",
    "# Descriptive statistics\n",
    "print(\"\\nDescriptive Statistics\")\n",
    "print(hd_df.describe())"
   ]
  },
  {
   "cell_type": "markdown",
   "metadata": {},
   "source": [
    "## Scale variables"
   ]
  },
  {
   "cell_type": "code",
   "execution_count": 12,
   "metadata": {
    "execution": {
     "iopub.execute_input": "2025-06-02T06:05:27.434428Z",
     "iopub.status.busy": "2025-06-02T06:05:27.434174Z",
     "iopub.status.idle": "2025-06-02T06:05:27.686374Z",
     "shell.execute_reply": "2025-06-02T06:05:27.685847Z",
     "shell.execute_reply.started": "2025-06-02T06:05:27.434410Z"
    }
   },
   "outputs": [
    {
     "name": "stdout",
     "output_type": "stream",
     "text": [
      "\n",
      "Columns with NaN values: ['Cholesterol']\n"
     ]
    }
   ],
   "source": [
    "# import the StandardScaler\n",
    "from sklearn.preprocessing import StandardScaler\n",
    "\n",
    "cols_to_scale = ['Age', 'RestingBP', 'Imputed_Cholesterol', 'MaxHR', 'Oldpeak']\n",
    "\n",
    "# Include columns for scaling\n",
    "hd_number_df = hd_df[cols_to_scale]\n",
    "\n",
    "# extract out the numerical data and scale it to zero mean and unit standard deviation\n",
    "scaler = StandardScaler().fit(hd_number_df)\n",
    "\n",
    "hd_num_scaled_df = pd.DataFrame(scaler.fit_transform(hd_number_df), \n",
    "                                columns = hd_number_df.columns, \n",
    "                                index = hd_number_df.index)\n",
    "\n",
    "hd_non_scaled_df = hd_df.drop(columns=cols_to_scale)\n",
    "\n",
    "hd_scaled_df = pd.concat([hd_num_scaled_df, hd_non_scaled_df], axis=1)\n",
    "\n",
    "# Find columns with any NaN values; should ONLY be Cholesterol\n",
    "columns_with_nan = hd_scaled_df.columns[hd_scaled_df.isna().any()].tolist()\n",
    "print(\"\\nColumns with NaN values:\", columns_with_nan)"
   ]
  },
  {
   "cell_type": "markdown",
   "metadata": {},
   "source": [
    "## Determine distributions"
   ]
  },
  {
   "cell_type": "code",
   "execution_count": 13,
   "metadata": {
    "execution": {
     "iopub.execute_input": "2025-06-02T06:05:27.709545Z",
     "iopub.status.busy": "2025-06-02T06:05:27.709314Z",
     "iopub.status.idle": "2025-06-02T06:05:27.718496Z",
     "shell.execute_reply": "2025-06-02T06:05:27.717926Z",
     "shell.execute_reply.started": "2025-06-02T06:05:27.709528Z"
    }
   },
   "outputs": [
    {
     "name": "stdout",
     "output_type": "stream",
     "text": [
      "Counts of categorical variables\n",
      "\n",
      " HeartDisease_Category\n",
      "Yes    507\n",
      "No     410\n",
      "Name: count, dtype: int64\n",
      "\n",
      " Sex\n",
      "Male      724\n",
      "Female    193\n",
      "Name: count, dtype: int64\n",
      "\n",
      " ChestPainType\n",
      "ASY    496\n",
      "NAP    202\n",
      "ATA    173\n",
      "TA      46\n",
      "Name: count, dtype: int64\n",
      "\n",
      " FastingBS\n",
      "No     703\n",
      "Yes    214\n",
      "Name: count, dtype: int64\n",
      "\n",
      " RestingECG\n",
      "Normal    551\n",
      "LVH       188\n",
      "ST        178\n",
      "Name: count, dtype: int64\n",
      "\n",
      " ST_Slope\n",
      "Flat    459\n",
      "Up      395\n",
      "Down     63\n",
      "Name: count, dtype: int64\n"
     ]
    }
   ],
   "source": [
    "print(\"Counts of categorical variables\")\n",
    "print(\"\\n\",hd_df['HeartDisease_Category'].value_counts())\n",
    "print(\"\\n\",hd_df['Sex'].value_counts())\n",
    "print(\"\\n\",hd_df['ChestPainType'].value_counts())\n",
    "print(\"\\n\",hd_df['FastingBS'].value_counts())\n",
    "print(\"\\n\",hd_df['RestingECG'].value_counts())\n",
    "print(\"\\n\",hd_df['ST_Slope'].value_counts())"
   ]
  },
  {
   "cell_type": "markdown",
   "metadata": {},
   "source": [
    "## Perform different analyses"
   ]
  },
  {
   "cell_type": "code",
   "execution_count": 14,
   "metadata": {
    "execution": {
     "iopub.execute_input": "2025-06-02T06:05:27.740567Z",
     "iopub.status.busy": "2025-06-02T06:05:27.740338Z",
     "iopub.status.idle": "2025-06-02T06:05:33.903590Z",
     "shell.execute_reply": "2025-06-02T06:05:33.903112Z",
     "shell.execute_reply.started": "2025-06-02T06:05:27.740549Z"
    }
   },
   "outputs": [
    {
     "name": "stderr",
     "output_type": "stream",
     "text": [
      "Matplotlib is building the font cache; this may take a moment.\n"
     ]
    },
    {
     "data": {
      "text/plain": [
       "<Figure size 800x600 with 0 Axes>"
      ]
     },
     "execution_count": 14,
     "metadata": {},
     "output_type": "execute_result"
    },
    {
     "data": {
      "text/plain": [
       "<Figure size 800x600 with 0 Axes>"
      ]
     },
     "metadata": {},
     "output_type": "display_data"
    }
   ],
   "source": [
    "import matplotlib.pyplot as plt\n",
    "import seaborn as sns\n",
    "\n",
    "plt.figure(figsize=(8, 6))"
   ]
  },
  {
   "cell_type": "code",
   "execution_count": 15,
   "metadata": {
    "execution": {
     "iopub.execute_input": "2025-06-02T06:05:33.904705Z",
     "iopub.status.busy": "2025-06-02T06:05:33.904361Z",
     "iopub.status.idle": "2025-06-02T06:05:34.127718Z",
     "shell.execute_reply": "2025-06-02T06:05:34.127051Z",
     "shell.execute_reply.started": "2025-06-02T06:05:33.904686Z"
    }
   },
   "outputs": [
    {
     "name": "stderr",
     "output_type": "stream",
     "text": [
      "/opt/conda/envs/anaconda-panel-2023.05-py310/lib/python3.11/site-packages/seaborn/_oldcore.py:1119: FutureWarning: use_inf_as_na option is deprecated and will be removed in a future version. Convert inf values to NaN before operating instead.\n",
      "  with pd.option_context('mode.use_inf_as_na', True):\n",
      "/opt/conda/envs/anaconda-panel-2023.05-py310/lib/python3.11/site-packages/seaborn/_oldcore.py:1075: FutureWarning: When grouping with a length-1 list-like, you will need to pass a length-1 tuple to get_group in a future version of pandas. Pass `(name,)` instead of `name` to silence this warning.\n",
      "  data_subset = grouped_data.get_group(pd_key)\n",
      "/opt/conda/envs/anaconda-panel-2023.05-py310/lib/python3.11/site-packages/seaborn/_oldcore.py:1075: FutureWarning: When grouping with a length-1 list-like, you will need to pass a length-1 tuple to get_group in a future version of pandas. Pass `(name,)` instead of `name` to silence this warning.\n",
      "  data_subset = grouped_data.get_group(pd_key)\n",
      "/opt/conda/envs/anaconda-panel-2023.05-py310/lib/python3.11/site-packages/seaborn/_oldcore.py:1075: FutureWarning: When grouping with a length-1 list-like, you will need to pass a length-1 tuple to get_group in a future version of pandas. Pass `(name,)` instead of `name` to silence this warning.\n",
      "  data_subset = grouped_data.get_group(pd_key)\n",
      "/opt/conda/envs/anaconda-panel-2023.05-py310/lib/python3.11/site-packages/seaborn/_oldcore.py:1075: FutureWarning: When grouping with a length-1 list-like, you will need to pass a length-1 tuple to get_group in a future version of pandas. Pass `(name,)` instead of `name` to silence this warning.\n",
      "  data_subset = grouped_data.get_group(pd_key)\n"
     ]
    },
    {
     "data": {
      "image/png": "[encoded data removed]",
      "text/plain": [
       "<Figure size 640x480 with 1 Axes>"
      ]
     },
     "metadata": {},
     "output_type": "display_data"
    }
   ],
   "source": [
    "# Plot histogram of Age by Sex\n",
    "sns.histplot(data=hd_df, x='Age', hue='Sex', multiple='stack', bins=10)\n",
    "plt.title('Histogram of Age by Sex')\n",
    "plt.xlabel('Age')\n",
    "plt.ylabel('Count')\n",
    "plt.show()"
   ]
  },
  {
   "cell_type": "code",
   "execution_count": 16,
   "metadata": {
    "execution": {
     "iopub.execute_input": "2025-06-02T06:05:34.128766Z",
     "iopub.status.busy": "2025-06-02T06:05:34.128525Z",
     "iopub.status.idle": "2025-06-02T06:05:34.325017Z",
     "shell.execute_reply": "2025-06-02T06:05:34.324514Z",
     "shell.execute_reply.started": "2025-06-02T06:05:34.128748Z"
    }
   },
   "outputs": [
    {
     "name": "stderr",
     "output_type": "stream",
     "text": [
      "/opt/conda/envs/anaconda-panel-2023.05-py310/lib/python3.11/site-packages/seaborn/_oldcore.py:1119: FutureWarning: use_inf_as_na option is deprecated and will be removed in a future version. Convert inf values to NaN before operating instead.\n",
      "  with pd.option_context('mode.use_inf_as_na', True):\n",
      "/opt/conda/envs/anaconda-panel-2023.05-py310/lib/python3.11/site-packages/seaborn/_oldcore.py:1075: FutureWarning: When grouping with a length-1 list-like, you will need to pass a length-1 tuple to get_group in a future version of pandas. Pass `(name,)` instead of `name` to silence this warning.\n",
      "  data_subset = grouped_data.get_group(pd_key)\n",
      "/opt/conda/envs/anaconda-panel-2023.05-py310/lib/python3.11/site-packages/seaborn/_oldcore.py:1075: FutureWarning: When grouping with a length-1 list-like, you will need to pass a length-1 tuple to get_group in a future version of pandas. Pass `(name,)` instead of `name` to silence this warning.\n",
      "  data_subset = grouped_data.get_group(pd_key)\n",
      "/opt/conda/envs/anaconda-panel-2023.05-py310/lib/python3.11/site-packages/seaborn/_oldcore.py:1075: FutureWarning: When grouping with a length-1 list-like, you will need to pass a length-1 tuple to get_group in a future version of pandas. Pass `(name,)` instead of `name` to silence this warning.\n",
      "  data_subset = grouped_data.get_group(pd_key)\n",
      "/opt/conda/envs/anaconda-panel-2023.05-py310/lib/python3.11/site-packages/seaborn/_oldcore.py:1075: FutureWarning: When grouping with a length-1 list-like, you will need to pass a length-1 tuple to get_group in a future version of pandas. Pass `(name,)` instead of `name` to silence this warning.\n",
      "  data_subset = grouped_data.get_group(pd_key)\n"
     ]
    },
    {
     "data": {
      "image/png": "[encoded data removed]",
      "text/plain": [
       "<Figure size 640x480 with 1 Axes>"
      ]
     },
     "metadata": {},
     "output_type": "display_data"
    }
   ],
   "source": [
    "# Plot histogram of Age by Heart Disease\n",
    "sns.histplot(data=hd_df, x='Age', hue='HeartDisease_Category', multiple='stack', bins=10)\n",
    "plt.title('Histogram of Age by Heart Disease')\n",
    "plt.xlabel('Age')\n",
    "plt.ylabel('Count')\n",
    "plt.show()"
   ]
  },
  {
   "cell_type": "code",
   "execution_count": 17,
   "metadata": {
    "execution": {
     "iopub.execute_input": "2025-06-02T06:05:34.326213Z",
     "iopub.status.busy": "2025-06-02T06:05:34.325736Z",
     "iopub.status.idle": "2025-06-02T06:05:34.517716Z",
     "shell.execute_reply": "2025-06-02T06:05:34.517234Z",
     "shell.execute_reply.started": "2025-06-02T06:05:34.326192Z"
    }
   },
   "outputs": [
    {
     "name": "stderr",
     "output_type": "stream",
     "text": [
      "/opt/conda/envs/anaconda-panel-2023.05-py310/lib/python3.11/site-packages/seaborn/_oldcore.py:1119: FutureWarning: use_inf_as_na option is deprecated and will be removed in a future version. Convert inf values to NaN before operating instead.\n",
      "  with pd.option_context('mode.use_inf_as_na', True):\n",
      "/opt/conda/envs/anaconda-panel-2023.05-py310/lib/python3.11/site-packages/seaborn/_oldcore.py:1075: FutureWarning: When grouping with a length-1 list-like, you will need to pass a length-1 tuple to get_group in a future version of pandas. Pass `(name,)` instead of `name` to silence this warning.\n",
      "  data_subset = grouped_data.get_group(pd_key)\n",
      "/opt/conda/envs/anaconda-panel-2023.05-py310/lib/python3.11/site-packages/seaborn/_oldcore.py:1075: FutureWarning: When grouping with a length-1 list-like, you will need to pass a length-1 tuple to get_group in a future version of pandas. Pass `(name,)` instead of `name` to silence this warning.\n",
      "  data_subset = grouped_data.get_group(pd_key)\n",
      "/opt/conda/envs/anaconda-panel-2023.05-py310/lib/python3.11/site-packages/seaborn/_oldcore.py:1075: FutureWarning: When grouping with a length-1 list-like, you will need to pass a length-1 tuple to get_group in a future version of pandas. Pass `(name,)` instead of `name` to silence this warning.\n",
      "  data_subset = grouped_data.get_group(pd_key)\n",
      "/opt/conda/envs/anaconda-panel-2023.05-py310/lib/python3.11/site-packages/seaborn/_oldcore.py:1075: FutureWarning: When grouping with a length-1 list-like, you will need to pass a length-1 tuple to get_group in a future version of pandas. Pass `(name,)` instead of `name` to silence this warning.\n",
      "  data_subset = grouped_data.get_group(pd_key)\n"
     ]
    },
    {
     "data": {
      "image/png": "[encoded data removed]",
      "text/plain": [
       "<Figure size 640x480 with 1 Axes>"
      ]
     },
     "metadata": {},
     "output_type": "display_data"
    }
   ],
   "source": [
    "# Plot histogram of Cholesterol by Sex\n",
    "sns.histplot(data=hd_df, x='Imputed_Cholesterol', hue='Sex', multiple='stack', bins=10)\n",
    "plt.title('Histogram of Cholesterol by Sex')\n",
    "plt.xlabel('Cholesterol')\n",
    "plt.ylabel('Count')\n",
    "plt.show()"
   ]
  },
  {
   "cell_type": "code",
   "execution_count": 18,
   "metadata": {
    "execution": {
     "iopub.execute_input": "2025-06-02T06:05:34.518666Z",
     "iopub.status.busy": "2025-06-02T06:05:34.518427Z",
     "iopub.status.idle": "2025-06-02T06:05:34.653967Z",
     "shell.execute_reply": "2025-06-02T06:05:34.653435Z",
     "shell.execute_reply.started": "2025-06-02T06:05:34.518649Z"
    }
   },
   "outputs": [
    {
     "data": {
      "image/png": "[encoded data removed]",
      "text/plain": [
       "<Figure size 640x480 with 1 Axes>"
      ]
     },
     "metadata": {},
     "output_type": "display_data"
    }
   ],
   "source": [
    "# Plot Box Plot of cholesterol and heart disease\n",
    "hd_df.boxplot(column='Imputed_Cholesterol', by='HeartDisease_Category')\n",
    "plt.title('Cholesterol levels between those with Heart Disease vs. no Heart Disease')\n",
    "plt.suptitle('')  # Remove default title\n",
    "plt.xlabel('Heart Disease')\n",
    "plt.ylabel('Cholesterol')\n",
    "plt.show()"
   ]
  },
  {
   "cell_type": "code",
   "execution_count": 19,
   "metadata": {
    "execution": {
     "iopub.execute_input": "2025-06-02T06:05:34.654958Z",
     "iopub.status.busy": "2025-06-02T06:05:34.654713Z",
     "iopub.status.idle": "2025-06-02T06:05:34.841305Z",
     "shell.execute_reply": "2025-06-02T06:05:34.840757Z",
     "shell.execute_reply.started": "2025-06-02T06:05:34.654939Z"
    }
   },
   "outputs": [
    {
     "name": "stderr",
     "output_type": "stream",
     "text": [
      "/opt/conda/envs/anaconda-panel-2023.05-py310/lib/python3.11/site-packages/seaborn/_oldcore.py:1119: FutureWarning: use_inf_as_na option is deprecated and will be removed in a future version. Convert inf values to NaN before operating instead.\n",
      "  with pd.option_context('mode.use_inf_as_na', True):\n",
      "/opt/conda/envs/anaconda-panel-2023.05-py310/lib/python3.11/site-packages/seaborn/_oldcore.py:1075: FutureWarning: When grouping with a length-1 list-like, you will need to pass a length-1 tuple to get_group in a future version of pandas. Pass `(name,)` instead of `name` to silence this warning.\n",
      "  data_subset = grouped_data.get_group(pd_key)\n",
      "/opt/conda/envs/anaconda-panel-2023.05-py310/lib/python3.11/site-packages/seaborn/_oldcore.py:1075: FutureWarning: When grouping with a length-1 list-like, you will need to pass a length-1 tuple to get_group in a future version of pandas. Pass `(name,)` instead of `name` to silence this warning.\n",
      "  data_subset = grouped_data.get_group(pd_key)\n",
      "/opt/conda/envs/anaconda-panel-2023.05-py310/lib/python3.11/site-packages/seaborn/_oldcore.py:1075: FutureWarning: When grouping with a length-1 list-like, you will need to pass a length-1 tuple to get_group in a future version of pandas. Pass `(name,)` instead of `name` to silence this warning.\n",
      "  data_subset = grouped_data.get_group(pd_key)\n",
      "/opt/conda/envs/anaconda-panel-2023.05-py310/lib/python3.11/site-packages/seaborn/_oldcore.py:1075: FutureWarning: When grouping with a length-1 list-like, you will need to pass a length-1 tuple to get_group in a future version of pandas. Pass `(name,)` instead of `name` to silence this warning.\n",
      "  data_subset = grouped_data.get_group(pd_key)\n"
     ]
    },
    {
     "data": {
      "image/png": "[encoded data removed]",
      "text/plain": [
       "<Figure size 640x480 with 1 Axes>"
      ]
     },
     "metadata": {},
     "output_type": "display_data"
    }
   ],
   "source": [
    "# Plot histogram of Resting BP by Sex\n",
    "sns.histplot(data=hd_df, x='RestingBP', hue='Sex', multiple='stack', bins=10)\n",
    "plt.title('Histogram of Resting BP (Systolic) by Sex')\n",
    "plt.xlabel('Resting BP (mm Hg)')\n",
    "plt.ylabel('Count')\n",
    "plt.show()"
   ]
  },
  {
   "cell_type": "code",
   "execution_count": 20,
   "metadata": {
    "execution": {
     "iopub.execute_input": "2025-06-02T06:05:34.842240Z",
     "iopub.status.busy": "2025-06-02T06:05:34.842010Z",
     "iopub.status.idle": "2025-06-02T06:05:34.966624Z",
     "shell.execute_reply": "2025-06-02T06:05:34.966080Z",
     "shell.execute_reply.started": "2025-06-02T06:05:34.842222Z"
    }
   },
   "outputs": [
    {
     "data": {
      "image/png": "[encoded data removed]",
      "text/plain": [
       "<Figure size 640x480 with 1 Axes>"
      ]
     },
     "metadata": {},
     "output_type": "display_data"
    }
   ],
   "source": [
    "# Plot Box Plot of Resting BP by Sex\n",
    "hd_df.boxplot(column='RestingBP', by='Sex')\n",
    "plt.title('Boxplots of Resting Blood Pressure grouped by Sex')\n",
    "plt.suptitle('')  # Remove default title\n",
    "plt.xlabel('Sex')\n",
    "plt.ylabel('Resting Blood Pressure (mm Hg)')\n",
    "plt.show()"
   ]
  },
  {
   "cell_type": "code",
   "execution_count": 21,
   "metadata": {
    "execution": {
     "iopub.execute_input": "2025-06-02T06:05:34.967724Z",
     "iopub.status.busy": "2025-06-02T06:05:34.967337Z",
     "iopub.status.idle": "2025-06-02T06:05:35.103212Z",
     "shell.execute_reply": "2025-06-02T06:05:35.102672Z",
     "shell.execute_reply.started": "2025-06-02T06:05:34.967706Z"
    }
   },
   "outputs": [
    {
     "data": {
      "image/png": "[encoded data removed]",
      "text/plain": [
       "<Figure size 640x480 with 1 Axes>"
      ]
     },
     "metadata": {},
     "output_type": "display_data"
    }
   ],
   "source": [
    "# Plot Box Plot of resting blood pressure and heart disease\n",
    "hd_df.boxplot(column='RestingBP', by='HeartDisease_Category')\n",
    "plt.title('Resting Blood Pressure between those with Heart Disease vs. no Heart Disease')\n",
    "plt.suptitle('')  # Remove default title\n",
    "plt.xlabel('Heart Disease')\n",
    "plt.ylabel('Resting Blood Pressure')\n",
    "plt.show()"
   ]
  },
  {
   "cell_type": "code",
   "execution_count": 22,
   "metadata": {
    "execution": {
     "iopub.execute_input": "2025-06-02T06:05:35.104416Z",
     "iopub.status.busy": "2025-06-02T06:05:35.103955Z",
     "iopub.status.idle": "2025-06-02T06:05:35.223085Z",
     "shell.execute_reply": "2025-06-02T06:05:35.222513Z",
     "shell.execute_reply.started": "2025-06-02T06:05:35.104395Z"
    }
   },
   "outputs": [
    {
     "data": {
      "image/png": "[encoded data removed]",
      "text/plain": [
       "<Figure size 640x480 with 1 Axes>"
      ]
     },
     "metadata": {},
     "output_type": "display_data"
    }
   ],
   "source": [
    "# Grouped Bar Chart of Heart Disease by Sex\n",
    "sns.countplot(data=hd_df, x='HeartDisease_Category', hue='Sex')\n",
    "plt.title(\"Heart Disease by Sex\")\n",
    "plt.xlabel('Heart Disease')\n",
    "plt.show()"
   ]
  },
  {
   "cell_type": "code",
   "execution_count": 23,
   "metadata": {
    "execution": {
     "iopub.execute_input": "2025-06-02T06:05:35.224118Z",
     "iopub.status.busy": "2025-06-02T06:05:35.223856Z",
     "iopub.status.idle": "2025-06-02T06:05:35.359969Z",
     "shell.execute_reply": "2025-06-02T06:05:35.359354Z",
     "shell.execute_reply.started": "2025-06-02T06:05:35.224100Z"
    }
   },
   "outputs": [
    {
     "data": {
      "image/png": "[encoded data removed]",
      "text/plain": [
       "<Figure size 640x480 with 1 Axes>"
      ]
     },
     "metadata": {},
     "output_type": "display_data"
    }
   ],
   "source": [
    "# Grouped Bar Chart of Heart Disease by Exercise Angina\n",
    "sns.countplot(data=hd_df, x='HeartDisease_Category', hue='ExerciseAngina')\n",
    "plt.title(\"Heart Disease by Exercise Angina\")\n",
    "plt.xlabel('Heart Disease')\n",
    "plt.show()"
   ]
  },
  {
   "cell_type": "code",
   "execution_count": 24,
   "metadata": {
    "execution": {
     "iopub.execute_input": "2025-06-02T06:05:35.360969Z",
     "iopub.status.busy": "2025-06-02T06:05:35.360728Z",
     "iopub.status.idle": "2025-06-02T06:05:35.565834Z",
     "shell.execute_reply": "2025-06-02T06:05:35.565317Z",
     "shell.execute_reply.started": "2025-06-02T06:05:35.360952Z"
    }
   },
   "outputs": [
    {
     "data": {
      "image/png": "[encoded data removed]",
      "text/plain": [
       "<Figure size 640x480 with 2 Axes>"
      ]
     },
     "metadata": {},
     "output_type": "display_data"
    }
   ],
   "source": [
    "# Compute correlation matrix for only specific columns \n",
    "columns_to_correlate = ['Age', 'Imputed_Cholesterol', 'RestingBP', 'MaxHR', 'Oldpeak']\n",
    "corr_matrix = hd_df[columns_to_correlate].corr()\n",
    "\n",
    "# Draw the heatmap\n",
    "sns.heatmap(corr_matrix, annot=True, cmap='coolwarm', fmt=\".2f\", square=True, linewidths=.5)\n",
    "plt.title(\"Correlation Heatmap\")\n",
    "plt.xticks(rotation=45, ha='right') # 45-degree angle for x-axis labels\n",
    "plt.tight_layout()  # Adjust layout to prevent label cutoff\n",
    "plt.show()"
   ]
  },
  {
   "cell_type": "code",
   "execution_count": 25,
   "metadata": {
    "execution": {
     "iopub.execute_input": "2025-06-02T06:05:35.566829Z",
     "iopub.status.busy": "2025-06-02T06:05:35.566591Z",
     "iopub.status.idle": "2025-06-02T06:05:35.570152Z",
     "shell.execute_reply": "2025-06-02T06:05:35.569688Z",
     "shell.execute_reply.started": "2025-06-02T06:05:35.566811Z"
    }
   },
   "outputs": [
    {
     "name": "stdout",
     "output_type": "stream",
     "text": [
      "Index(['Age', 'RestingBP', 'Imputed_Cholesterol', 'MaxHR', 'Oldpeak', 'Sex',\n",
      "       'ChestPainType', 'Cholesterol', 'FastingBS', 'RestingECG',\n",
      "       'ExerciseAngina', 'ST_Slope', 'HeartDisease', 'Sex_Male', 'Ex_Ang_Yes',\n",
      "       'FastingBS_Yes', 'ChestPainType_ATA', 'ChestPainType_NAP',\n",
      "       'ChestPainType_TA', 'RestingECG_Normal', 'RestingECG_ST',\n",
      "       'ST_Slope_Flat', 'ST_Slope_Up', 'HeartDisease_Category'],\n",
      "      dtype='object')\n"
     ]
    }
   ],
   "source": [
    "# Helps me remember what the variables are rather than scrolling to the top :-)\n",
    "print(hd_scaled_df.columns)"
   ]
  },
  {
   "cell_type": "markdown",
   "metadata": {},
   "source": [
    "## Fit logistic regression model using all features"
   ]
  },
  {
   "cell_type": "code",
   "execution_count": 26,
   "metadata": {
    "execution": {
     "iopub.execute_input": "2025-06-02T06:05:35.593864Z",
     "iopub.status.busy": "2025-06-02T06:05:35.593635Z",
     "iopub.status.idle": "2025-06-02T06:05:35.723790Z",
     "shell.execute_reply": "2025-06-02T06:05:35.723114Z",
     "shell.execute_reply.started": "2025-06-02T06:05:35.593847Z"
    }
   },
   "outputs": [],
   "source": [
    "from sklearn.model_selection import train_test_split\n",
    "from sklearn.linear_model import LogisticRegression\n",
    "# Define features to use in the model\n",
    "cols_to_use = ['Age', 'RestingBP', 'Imputed_Cholesterol', 'MaxHR', 'Oldpeak', 'Sex_Male', 'Ex_Ang_Yes',\n",
    "               'FastingBS_Yes', 'ChestPainType_ATA', 'ChestPainType_NAP', 'ChestPainType_TA', \n",
    "               'RestingECG_Normal', 'RestingECG_ST', 'ST_Slope_Flat', 'ST_Slope_Up']\n",
    "\n",
    "# Extract target variable (heart disease status)\n",
    "y = hd_scaled_df['HeartDisease']\n",
    "\n",
    "# Use feature variables\n",
    "X = hd_scaled_df[cols_to_use]\n",
    "\n",
    "# Split data into training (80%) and testing (20%) sets with fixed random state for reproducibility\n",
    "X_train, X_test, y_train, y_test = train_test_split(X, y, test_size=0.2, random_state=85)\n",
    "\n",
    "# Train logistic regression model with increased max_iter to ensure convergence\n",
    "# Code kept crashing with fewer iterations, so set as 10,000\n",
    "lr_model = LogisticRegression(max_iter=10000).fit(X_train, y_train)"
   ]
  },
  {
   "cell_type": "markdown",
   "metadata": {},
   "source": [
    "## Determine probabilities and predictions, report results"
   ]
  },
  {
   "cell_type": "code",
   "execution_count": 27,
   "metadata": {
    "execution": {
     "iopub.execute_input": "2025-06-02T06:05:35.762103Z",
     "iopub.status.busy": "2025-06-02T06:05:35.761502Z",
     "iopub.status.idle": "2025-06-02T06:05:35.787955Z",
     "shell.execute_reply": "2025-06-02T06:05:35.787382Z",
     "shell.execute_reply.started": "2025-06-02T06:05:35.762077Z"
    }
   },
   "outputs": [
    {
     "name": "stdout",
     "output_type": "stream",
     "text": [
      "Confusion Matrix:\n",
      " [[65  9]\n",
      " [13 97]]\n",
      "\n",
      "Accuracy: 0.880\n",
      "\n",
      "AUC: 0.943\n",
      "\n",
      "Classification Report\n",
      "               precision    recall  f1-score   support\n",
      "\n",
      "           0       0.83      0.88      0.86        74\n",
      "           1       0.92      0.88      0.90       110\n",
      "\n",
      "    accuracy                           0.88       184\n",
      "   macro avg       0.87      0.88      0.88       184\n",
      "weighted avg       0.88      0.88      0.88       184\n",
      "\n"
     ]
    }
   ],
   "source": [
    "from sklearn.metrics import classification_report, confusion_matrix\n",
    "from sklearn.metrics import accuracy_score, precision_score, recall_score, f1_score\n",
    "from sklearn.metrics import roc_auc_score\n",
    "\n",
    "# Import necessary evaluation metrics from scikit-learn\n",
    "\n",
    "# Predict probabilities and classes\n",
    "y_prob = lr_model.predict_proba(X_test)[:, 1]  # Get probability estimates for positive class (class 1)\n",
    "y_pred = lr_model.predict(X_test)  # Get class predictions (0 or 1)\n",
    "\n",
    "# Evaluate the model using multiple metrics\n",
    "report = classification_report(y_test, y_pred)  # Generate detailed classification metrics\n",
    "conf_matrix = confusion_matrix(y_test, y_pred)  # Create confusion matrix (TN, FP, FN, TP)\n",
    "accuracy = accuracy_score(y_test, y_pred)  # Correct predictions / total predictions\n",
    "auc = roc_auc_score(y_test, y_prob)  # Calculate model's ability to discriminate\n",
    "\n",
    "# Display evaluation results\n",
    "print(\"Confusion Matrix:\\n\", conf_matrix)\n",
    "print(f\"\\nAccuracy: {accuracy:.3f}\")\n",
    "print(f\"\\nAUC: {auc:.3f}\") \n",
    "print(\"\\nClassification Report\\n\",report)"
   ]
  },
  {
   "cell_type": "markdown",
   "metadata": {},
   "source": [
    "## Determine statistically significant features and evaluate which to remove from the model"
   ]
  },
  {
   "cell_type": "code",
   "execution_count": 28,
   "metadata": {
    "execution": {
     "iopub.execute_input": "2025-06-02T06:05:35.823022Z",
     "iopub.status.busy": "2025-06-02T06:05:35.822396Z",
     "iopub.status.idle": "2025-06-02T06:05:36.250233Z",
     "shell.execute_reply": "2025-06-02T06:05:36.249627Z",
     "shell.execute_reply.started": "2025-06-02T06:05:35.822994Z"
    }
   },
   "outputs": [
    {
     "name": "stdout",
     "output_type": "stream",
     "text": [
      "Optimization terminated successfully.\n",
      "         Current function value: 0.341376\n",
      "         Iterations 7\n",
      "                           Logit Regression Results                           \n",
      "==============================================================================\n",
      "Dep. Variable:           HeartDisease   No. Observations:                  733\n",
      "Model:                          Logit   Df Residuals:                      717\n",
      "Method:                           MLE   Df Model:                           15\n",
      "Date:                Mon, 02 Jun 2025   Pseudo R-squ.:                  0.5050\n",
      "Time:                        06:05:36   Log-Likelihood:                -250.23\n",
      "converged:                       True   LL-Null:                       -505.54\n",
      "Covariance Type:            nonrobust   LLR p-value:                 3.209e-99\n",
      "=======================================================================================\n",
      "                          coef    std err          z      P>|z|      [0.025      0.975]\n",
      "---------------------------------------------------------------------------------------\n",
      "const                  -1.3047      0.573     -2.276      0.023      -2.428      -0.181\n",
      "Age                     0.1079      0.137      0.788      0.431      -0.160       0.376\n",
      "RestingBP               0.0634      0.124      0.511      0.610      -0.180       0.307\n",
      "Imputed_Cholesterol    -0.0222      0.112     -0.199      0.842      -0.241       0.197\n",
      "MaxHR                  -0.2339      0.135     -1.730      0.084      -0.499       0.031\n",
      "Oldpeak                 0.4653      0.142      3.268      0.001       0.186       0.744\n",
      "Sex_Male                1.6733      0.312      5.357      0.000       1.061       2.285\n",
      "Ex_Ang_Yes              0.9749      0.262      3.727      0.000       0.462       1.488\n",
      "FastingBS_Yes           1.0556      0.298      3.540      0.000       0.471       1.640\n",
      "ChestPainType_ATA      -1.7164      0.368     -4.669      0.000      -2.437      -0.996\n",
      "ChestPainType_NAP      -1.5212      0.283     -5.378      0.000      -2.076      -0.967\n",
      "ChestPainType_TA       -1.3829      0.463     -2.985      0.003      -2.291      -0.475\n",
      "RestingECG_Normal      -0.1200      0.297     -0.404      0.686      -0.702       0.462\n",
      "RestingECG_ST          -0.0971      0.377     -0.258      0.796      -0.835       0.641\n",
      "ST_Slope_Flat           1.4799      0.473      3.130      0.002       0.553       2.406\n",
      "ST_Slope_Up            -0.7336      0.500     -1.467      0.142      -1.714       0.246\n",
      "=======================================================================================\n",
      "\n",
      "P-values and Significance:\n",
      "                           p_value  significant\n",
      "const                2.284570e-02         True\n",
      "Age                  4.307034e-01        False\n",
      "RestingBP            6.096047e-01        False\n",
      "Imputed_Cholesterol  8.424527e-01        False\n",
      "MaxHR                8.369976e-02        False\n",
      "Oldpeak              1.083064e-03         True\n",
      "Sex_Male             8.458330e-08         True\n",
      "Ex_Ang_Yes           1.937617e-04         True\n",
      "FastingBS_Yes        4.002225e-04         True\n",
      "ChestPainType_ATA    3.025494e-06         True\n",
      "ChestPainType_NAP    7.538181e-08         True\n",
      "ChestPainType_TA     2.838563e-03         True\n",
      "RestingECG_Normal    6.860707e-01        False\n",
      "RestingECG_ST        7.964672e-01        False\n",
      "ST_Slope_Flat        1.745225e-03         True\n",
      "ST_Slope_Up          1.423555e-01        False\n",
      "\n",
      "Statistically Significant Variables (p < 0.05):\n",
      " ['const', 'Oldpeak', 'Sex_Male', 'Ex_Ang_Yes', 'FastingBS_Yes', 'ChestPainType_ATA', 'ChestPainType_NAP', 'ChestPainType_TA', 'ST_Slope_Flat']\n"
     ]
    }
   ],
   "source": [
    "import statsmodels.api as sm\n",
    "\n",
    "# Add a constant term to the training and test features\n",
    "X_train_sm = sm.add_constant(X_train)\n",
    "X_test_sm = sm.add_constant(X_test)\n",
    "\n",
    "# Initialize a logistic regression model using statsmodels\n",
    "sm_model = sm.Logit(y_train, X_train_sm)\n",
    "\n",
    "# Fit the model using Newton's method\n",
    "sm_result = sm_model.fit(method ='newton')\n",
    "\n",
    "# Display results\n",
    "print(sm_result.summary())\n",
    "\n",
    "# Create a DataFrame of p-values to test for significance\n",
    "p_values = pd.DataFrame(sm_result.pvalues, columns=['p_value'], index=X_train_sm.columns)\n",
    "\n",
    "# Flag variables as significant if p-value within 95% confidence level\n",
    "p_values['significant'] = p_values['p_value'] < 0.05\n",
    "print(\"\\nP-values and Significance:\\n\", p_values)\n",
    "\n",
    "# Display statistically significant variables\n",
    "significant_vars = p_values[p_values['significant']].index.tolist()\n",
    "print(\"\\nStatistically Significant Variables (p < 0.05):\\n\", significant_vars)"
   ]
  },
  {
   "cell_type": "markdown",
   "metadata": {},
   "source": [
    "## Show important features"
   ]
  },
  {
   "cell_type": "code",
   "execution_count": 29,
   "metadata": {
    "execution": {
     "iopub.execute_input": "2025-06-02T06:05:36.294517Z",
     "iopub.status.busy": "2025-06-02T06:05:36.293914Z",
     "iopub.status.idle": "2025-06-02T06:05:36.302968Z",
     "shell.execute_reply": "2025-06-02T06:05:36.302380Z",
     "shell.execute_reply.started": "2025-06-02T06:05:36.294491Z"
    }
   },
   "outputs": [
    {
     "name": "stdout",
     "output_type": "stream",
     "text": [
      "Sex_Male               1.508869\n",
      "ChestPainType_ATA      1.492502\n",
      "ChestPainType_NAP      1.335820\n",
      "ST_Slope_Flat          1.305993\n",
      "ChestPainType_TA       1.058312\n",
      "Ex_Ang_Yes             0.966903\n",
      "FastingBS_Yes          0.964454\n",
      "ST_Slope_Up            0.789752\n",
      "Oldpeak                0.451986\n",
      "MaxHR                  0.259230\n",
      "Age                    0.104192\n",
      "RestingECG_Normal      0.102723\n",
      "RestingECG_ST          0.063972\n",
      "RestingBP              0.055902\n",
      "Imputed_Cholesterol    0.016621\n",
      "dtype: float64\n"
     ]
    }
   ],
   "source": [
    "feature_importance = pd.Series(abs(lr_model.coef_[0]), index=X.columns).sort_values(ascending=False)\n",
    "print(feature_importance.sort_values(ascending=False))"
   ]
  },
  {
   "cell_type": "markdown",
   "metadata": {},
   "source": [
    "## Determine optimal threshold"
   ]
  },
  {
   "cell_type": "raw",
   "metadata": {},
   "source": [
    "Lowering or raising the threshold affects the confusion matrix and classification results\n",
    "\n",
    "| Threshold | TP | FP | FN | TN | Precision | Recall | F1 |\n",
    "| --------- | -- | -- | -- | -- | --------- | ------ | -- |\n",
    "| Low       | ↑  | ↑  | ↓  | ↓  | ↓         | ↑      | ?  |\n",
    "| High      | ↓  | ↓  | ↑  | ↑  | ↑         | ↓      | ?  |\n",
    "\n",
    "In this case, it would be better to have a LOWER threshold as the cost with a False Negative for a heart disease\n",
    "diagnosis is greater than a False Positive\n"
   ]
  },
  {
   "cell_type": "code",
   "execution_count": 30,
   "metadata": {
    "execution": {
     "iopub.execute_input": "2025-06-02T06:05:36.341164Z",
     "iopub.status.busy": "2025-06-02T06:05:36.340515Z",
     "iopub.status.idle": "2025-06-02T06:05:36.346359Z",
     "shell.execute_reply": "2025-06-02T06:05:36.345910Z",
     "shell.execute_reply.started": "2025-06-02T06:05:36.341136Z"
    }
   },
   "outputs": [
    {
     "name": "stdout",
     "output_type": "stream",
     "text": [
      "Optimal Threshold:  0.338\n"
     ]
    }
   ],
   "source": [
    "from sklearn.metrics import roc_curve\n",
    "\n",
    "# Calculate false positive rate, true positive rate, and thresholds\n",
    "# y_test contains the actual labels, y_prob contains the predicted probabilities\n",
    "fpr, tpr, thresholds = roc_curve(y_test, y_prob)\n",
    "\n",
    "# Determining the maximum difference between true positive rate and false positive rate\n",
    "optimal_idx = np.argmax(tpr - fpr)\n",
    "\n",
    "# Get the threshold value corresponding to the optimal index\n",
    "optimal_threshold = thresholds[optimal_idx]\n",
    "\n",
    "print(f\"Optimal Threshold: {optimal_threshold: .3f}\")"
   ]
  },
  {
   "cell_type": "markdown",
   "metadata": {},
   "source": [
    "## Display new results after reducing threshold"
   ]
  },
  {
   "cell_type": "code",
   "execution_count": 31,
   "metadata": {
    "execution": {
     "iopub.execute_input": "2025-06-02T06:05:36.386608Z",
     "iopub.status.busy": "2025-06-02T06:05:36.386355Z",
     "iopub.status.idle": "2025-06-02T06:05:36.400708Z",
     "shell.execute_reply": "2025-06-02T06:05:36.400168Z",
     "shell.execute_reply.started": "2025-06-02T06:05:36.386590Z"
    }
   },
   "outputs": [
    {
     "name": "stdout",
     "output_type": "stream",
     "text": [
      "\n",
      "Confusion Matrix (Reduced Threshold):\n",
      " [[ 62  12]\n",
      " [  6 104]]\n",
      "\n",
      "Accuracy:  0.902\n",
      "\n",
      "Classification Report (Reduced Threshold):\n",
      "               precision    recall  f1-score   support\n",
      "\n",
      "           0       0.91      0.84      0.87        74\n",
      "           1       0.90      0.95      0.92       110\n",
      "\n",
      "    accuracy                           0.90       184\n",
      "   macro avg       0.90      0.89      0.90       184\n",
      "weighted avg       0.90      0.90      0.90       184\n",
      "\n"
     ]
    }
   ],
   "source": [
    "# Get predicted values for those that are above the threshold\n",
    "y_pred_reduced = (y_prob >= optimal_threshold).astype(int)\n",
    "\n",
    "# Obtain new results using the reduced threshold predictions\n",
    "conf_matrix_reduced = confusion_matrix(y_test, y_pred_reduced)\n",
    "report_reduced = classification_report(y_test, y_pred_reduced)\n",
    "accuracy_reduced = accuracy_score(y_test, y_pred_reduced)\n",
    "\n",
    "print(\"\\nConfusion Matrix (Reduced Threshold):\\n\", conf_matrix_reduced)\n",
    "print(f\"\\nAccuracy: {accuracy_reduced: .3f}\")\n",
    "print(\"\\nClassification Report (Reduced Threshold):\\n\", report_reduced)"
   ]
  },
  {
   "cell_type": "markdown",
   "metadata": {},
   "source": [
    "## Fit reduced model"
   ]
  },
  {
   "cell_type": "code",
   "execution_count": 32,
   "metadata": {
    "execution": {
     "iopub.execute_input": "2025-06-02T06:05:36.430038Z",
     "iopub.status.busy": "2025-06-02T06:05:36.429649Z",
     "iopub.status.idle": "2025-06-02T06:05:36.489752Z",
     "shell.execute_reply": "2025-06-02T06:05:36.488878Z",
     "shell.execute_reply.started": "2025-06-02T06:05:36.430012Z"
    }
   },
   "outputs": [],
   "source": [
    "# Remove some features. After several variations, \n",
    "# I kept Age and MaxHR in the model as the model performed best with them included \n",
    "new_cols_to_include =  ['Age', 'MaxHR', 'Oldpeak', 'Sex_Male', 'Ex_Ang_Yes', 'FastingBS_Yes', 'ChestPainType_ATA',\n",
    "                        'ChestPainType_NAP', 'ChestPainType_TA', 'ST_Slope_Flat']\n",
    "\n",
    "# Set up and train model on reduced set of features\n",
    "new_X = hd_scaled_df[new_cols_to_include]\n",
    "new_y = hd_scaled_df['HeartDisease']\n",
    "\n",
    "new_X_train, new_X_test, new_y_train, new_y_test = train_test_split(new_X, new_y, test_size=0.2, random_state=85)\n",
    "\n",
    "new_lr_model = LogisticRegression(max_iter=10000).fit(new_X_train, new_y_train)\n"
   ]
  },
  {
   "cell_type": "markdown",
   "metadata": {},
   "source": [
    "## Display new results on reduced model, default threshold"
   ]
  },
  {
   "cell_type": "code",
   "execution_count": 33,
   "metadata": {
    "execution": {
     "iopub.execute_input": "2025-06-02T06:05:36.532785Z",
     "iopub.status.busy": "2025-06-02T06:05:36.532554Z",
     "iopub.status.idle": "2025-06-02T06:05:36.560256Z",
     "shell.execute_reply": "2025-06-02T06:05:36.559676Z",
     "shell.execute_reply.started": "2025-06-02T06:05:36.532766Z"
    }
   },
   "outputs": [
    {
     "name": "stdout",
     "output_type": "stream",
     "text": [
      "Confusion Matrix:\n",
      " [[65  9]\n",
      " [13 97]]\n",
      "\n",
      "Accuracy: 0.880\n",
      "\n",
      "AUC: 0.939\n",
      "\n",
      "Classification Report\n",
      "               precision    recall  f1-score   support\n",
      "\n",
      "           0       0.83      0.88      0.86        74\n",
      "           1       0.92      0.88      0.90       110\n",
      "\n",
      "    accuracy                           0.88       184\n",
      "   macro avg       0.87      0.88      0.88       184\n",
      "weighted avg       0.88      0.88      0.88       184\n",
      "\n"
     ]
    }
   ],
   "source": [
    "# Obtain the probabilities and predictions based on the reduced model\n",
    "new_y_prob = new_lr_model.predict_proba(new_X_test)[:, 1]\n",
    "new_y_pred = new_lr_model.predict(new_X_test)\n",
    "\n",
    "# Evaluate the reduced model\n",
    "new_report = classification_report(new_y_test, new_y_pred)\n",
    "new_conf_matrix = confusion_matrix(new_y_test, new_y_pred)\n",
    "new_accuracy = accuracy_score(new_y_test, new_y_pred)\n",
    "new_auc = roc_auc_score(new_y_test, new_y_prob)\n",
    "\n",
    "# Print results\n",
    "print(\"Confusion Matrix:\\n\", new_conf_matrix)\n",
    "print(f\"\\nAccuracy: {new_accuracy:.3f}\")\n",
    "print(f\"\\nAUC: {new_auc:.3f}\") \n",
    "print(\"\\nClassification Report\\n\",new_report)"
   ]
  },
  {
   "cell_type": "markdown",
   "metadata": {
    "execution": {
     "iopub.execute_input": "2025-05-26T02:33:01.869190Z",
     "iopub.status.busy": "2025-05-26T02:33:01.868539Z",
     "iopub.status.idle": "2025-05-26T02:33:01.872080Z",
     "shell.execute_reply": "2025-05-26T02:33:01.871370Z",
     "shell.execute_reply.started": "2025-05-26T02:33:01.869157Z"
    }
   },
   "source": [
    "## Calculate new optimum threshold and display results on reduced model"
   ]
  },
  {
   "cell_type": "code",
   "execution_count": 34,
   "metadata": {
    "execution": {
     "iopub.execute_input": "2025-06-02T06:05:36.599885Z",
     "iopub.status.busy": "2025-06-02T06:05:36.599497Z",
     "iopub.status.idle": "2025-06-02T06:05:36.614871Z",
     "shell.execute_reply": "2025-06-02T06:05:36.614293Z",
     "shell.execute_reply.started": "2025-06-02T06:05:36.599817Z"
    }
   },
   "outputs": [
    {
     "name": "stdout",
     "output_type": "stream",
     "text": [
      "New optimal Threshold:  0.230\n",
      "\n",
      "Confusion Matrix (Reduced Threshold):\n",
      " [[ 59  15]\n",
      " [  3 107]]\n",
      "\n",
      "Accuracy:  0.902\n",
      "\n",
      "AUC: 0.939\n",
      "\n",
      "Classification Report (Reduced Threshold):\n",
      "               precision    recall  f1-score   support\n",
      "\n",
      "           0       0.95      0.80      0.87        74\n",
      "           1       0.88      0.97      0.92       110\n",
      "\n",
      "    accuracy                           0.90       184\n",
      "   macro avg       0.91      0.89      0.90       184\n",
      "weighted avg       0.91      0.90      0.90       184\n",
      "\n"
     ]
    }
   ],
   "source": [
    "# As before, calculate the optimum threshold on the reduced model predictions\n",
    "fpr, tpr, thresholds = roc_curve(new_y_test, new_y_prob)\n",
    "optimal_idx = np.argmax(tpr - fpr)\n",
    "new_optimal_threshold = thresholds[optimal_idx]\n",
    "print(f\"New optimal Threshold: {new_optimal_threshold: .3f}\")\n",
    "\n",
    "# Evaluate the reduced model based on the optimum threshold\n",
    "new_y_pred_reduced = (new_y_prob >= new_optimal_threshold).astype(int)\n",
    "conf_matrix_reduced = confusion_matrix(y_test, new_y_pred_reduced)\n",
    "report_reduced = classification_report(y_test, new_y_pred_reduced)\n",
    "accuracy_reduced = accuracy_score(y_test, new_y_pred_reduced)\n",
    "\n",
    "# Print results\n",
    "print(\"\\nConfusion Matrix (Reduced Threshold):\\n\", conf_matrix_reduced)\n",
    "print(f\"\\nAccuracy: {accuracy_reduced: .3f}\")\n",
    "print(f\"\\nAUC: {new_auc:.3f}\") \n",
    "print(\"\\nClassification Report (Reduced Threshold):\\n\", report_reduced)"
   ]
  },
  {
   "cell_type": "markdown",
   "metadata": {},
   "source": [
    "## Create and evaluate SVM model"
   ]
  },
  {
   "cell_type": "code",
   "execution_count": 35,
   "metadata": {
    "execution": {
     "iopub.execute_input": "2025-06-02T06:05:36.644394Z",
     "iopub.status.busy": "2025-06-02T06:05:36.643944Z",
     "iopub.status.idle": "2025-06-02T06:05:36.791615Z",
     "shell.execute_reply": "2025-06-02T06:05:36.791047Z",
     "shell.execute_reply.started": "2025-06-02T06:05:36.644376Z"
    }
   },
   "outputs": [
    {
     "name": "stdout",
     "output_type": "stream",
     "text": [
      "Confusion Matrix:\n",
      " [[70 16]\n",
      " [11 87]]\n",
      "\n",
      "Accuracy:  0.853\n",
      "\n",
      "AUC Score:  0.902\n",
      "\n",
      "Classification Report:\n",
      "               precision    recall  f1-score   support\n",
      "\n",
      "           0       0.86      0.81      0.84        86\n",
      "           1       0.84      0.89      0.87        98\n",
      "\n",
      "    accuracy                           0.85       184\n",
      "   macro avg       0.85      0.85      0.85       184\n",
      "weighted avg       0.85      0.85      0.85       184\n",
      "\n"
     ]
    }
   ],
   "source": [
    "from sklearn import datasets\n",
    "from sklearn.preprocessing import StandardScaler\n",
    "from sklearn.svm import SVC\n",
    "\n",
    "# X and y will be the same as used for the full Logistic Regression model \n",
    "\n",
    "#Train/test split\n",
    "X_train_svm, X_test_svm, y_train_svm, y_test_svm = train_test_split(X, y, test_size=0.2, random_state=8)\n",
    "\n",
    "#Standardize features\n",
    "scaler = StandardScaler()\n",
    "X_train_svm = scaler.fit_transform(X_train_svm)\n",
    "X_test_svm = scaler.transform(X_test_svm)\n",
    "\n",
    "#Train the SVM model\n",
    "svm_model = SVC(kernel='rbf', probability=True, random_state=11)  # use `probability=True` for AUC\n",
    "svm_model.fit(X_train_svm, y_train_svm)\n",
    "\n",
    "# Predictions\n",
    "y_proba_svm = svm_model.predict_proba(X_test_svm)[:, 1]  # Probabilities for AUC\n",
    "y_pred_svm = svm_model.predict(X_test_svm)\n",
    "\n",
    "# Evaluate and print results\n",
    "conf_matrix_svm = confusion_matrix(y_test_svm, y_pred_svm)\n",
    "report_svm = classification_report(y_test_svm, y_pred_svm)\n",
    "accuracy_svm = accuracy_score(y_test_svm, y_pred_svm)\n",
    "auc_score_svm = roc_auc_score(y_test_svm, y_proba_svm)\n",
    "\n",
    "# Print results\n",
    "print(\"Confusion Matrix:\\n\", conf_matrix_svm)\n",
    "print(f\"\\nAccuracy: {accuracy_svm: .3f}\")\n",
    "print(f\"\\nAUC Score: {auc_score_svm: .3f}\")\n",
    "print(\"\\nClassification Report:\\n\", report_svm)"
   ]
  },
  {
   "cell_type": "markdown",
   "metadata": {},
   "source": [
    "## Fit a reduced SVM model and evaluate"
   ]
  },
  {
   "cell_type": "code",
   "execution_count": 36,
   "metadata": {
    "execution": {
     "iopub.execute_input": "2025-06-02T06:05:36.821718Z",
     "iopub.status.busy": "2025-06-02T06:05:36.821489Z",
     "iopub.status.idle": "2025-06-02T06:05:36.900482Z",
     "shell.execute_reply": "2025-06-02T06:05:36.899904Z",
     "shell.execute_reply.started": "2025-06-02T06:05:36.821701Z"
    }
   },
   "outputs": [
    {
     "name": "stdout",
     "output_type": "stream",
     "text": [
      "Confusion Matrix:\n",
      " [[64 14]\n",
      " [10 96]]\n",
      "\n",
      "Accuracy:  0.870\n",
      "\n",
      "AUC Score:  0.901\n",
      "\n",
      "Classification Report:\n",
      "               precision    recall  f1-score   support\n",
      "\n",
      "           0       0.86      0.82      0.84        78\n",
      "           1       0.87      0.91      0.89       106\n",
      "\n",
      "    accuracy                           0.87       184\n",
      "   macro avg       0.87      0.86      0.87       184\n",
      "weighted avg       0.87      0.87      0.87       184\n",
      "\n"
     ]
    }
   ],
   "source": [
    "#The split will use \"new_X\" and \"new_y\" as was done for the reduced Logistic Regression model\n",
    "\n",
    "#Train/test split\n",
    "X_train_svm_reduced, X_test_svm_reduced, y_train_svm_reduced, y_test_svm_reduced = train_test_split(new_X, new_y, test_size=0.2, random_state=22)\n",
    "\n",
    "#Standardize features\n",
    "scaler = StandardScaler()\n",
    "X_train_svm_reduced = scaler.fit_transform(X_train_svm_reduced)\n",
    "X_test_svm_reduced = scaler.transform(X_test_svm_reduced)\n",
    "\n",
    "#Train the SVM model\n",
    "svm_reduced_model = SVC(kernel='rbf', probability=True, random_state=2)  # use `probability=True` for AUC\n",
    "svm_reduced_model.fit(X_train_svm_reduced, y_train_svm_reduced)\n",
    "\n",
    "# Predictions\n",
    "y_proba_svm_reduced = svm_reduced_model.predict_proba(X_test_svm_reduced)[:, 1]  # Probabilities for AUC\n",
    "y_pred_svm_reduced = svm_reduced_model.predict(X_test_svm_reduced)\n",
    "\n",
    "# Evaluate and print results\n",
    "conf_matrix_svm_reduced = confusion_matrix(y_test_svm_reduced, y_pred_svm_reduced)\n",
    "report_svm_reduced = classification_report(y_test_svm_reduced, y_pred_svm_reduced)\n",
    "accuracy_svm_reduced = accuracy_score(y_test_svm_reduced, y_pred_svm_reduced)\n",
    "auc_score_svm_reduced = roc_auc_score(y_test_svm_reduced, y_proba_svm_reduced)\n",
    "\n",
    "# Print results\n",
    "print(\"Confusion Matrix:\\n\", conf_matrix_svm_reduced)\n",
    "print(f\"\\nAccuracy: {accuracy_svm_reduced: .3f}\")\n",
    "print(f\"\\nAUC Score: {auc_score_svm_reduced: .3f}\")\n",
    "print(\"\\nClassification Report:\\n\", report_svm_reduced)"
   ]
  },
  {
   "cell_type": "markdown",
   "metadata": {},
   "source": [
    "## Calculating and using the optimum threshold for a reduced SVM model"
   ]
  },
  {
   "cell_type": "code",
   "execution_count": 37,
   "metadata": {
    "execution": {
     "iopub.execute_input": "2025-06-02T06:05:36.929744Z",
     "iopub.status.busy": "2025-06-02T06:05:36.929508Z",
     "iopub.status.idle": "2025-06-02T06:05:36.944614Z",
     "shell.execute_reply": "2025-06-02T06:05:36.944011Z",
     "shell.execute_reply.started": "2025-06-02T06:05:36.929726Z"
    }
   },
   "outputs": [
    {
     "name": "stdout",
     "output_type": "stream",
     "text": [
      "New optimal Threshold:  0.352\n",
      "\n",
      "Confusion Matrix (Reduced Threshold):\n",
      " [[ 62  16]\n",
      " [  6 100]]\n",
      "\n",
      "Accuracy:  0.880\n",
      "\n",
      "AUC Score:  0.901\n",
      "\n",
      "Classification Report (Reduced Threshold):\n",
      "               precision    recall  f1-score   support\n",
      "\n",
      "           0       0.91      0.79      0.85        78\n",
      "           1       0.86      0.94      0.90       106\n",
      "\n",
      "    accuracy                           0.88       184\n",
      "   macro avg       0.89      0.87      0.88       184\n",
      "weighted avg       0.88      0.88      0.88       184\n",
      "\n"
     ]
    }
   ],
   "source": [
    "# As before, calculate the optimum threshold on the reduced model predictions\n",
    "fpr, tpr, thresholds = roc_curve(y_test_svm_reduced, y_proba_svm_reduced)\n",
    "optimal_idx_svm = np.argmax(tpr - fpr)\n",
    "optimal_threshold_svm = thresholds[optimal_idx_svm]\n",
    "print(f\"New optimal Threshold: {optimal_threshold_svm: .3f}\")\n",
    "\n",
    "# Evaluate the reduced model based on the optimum threshold\n",
    "y_pred_svm_reduced = (y_proba_svm_reduced >= optimal_threshold_svm).astype(int)\n",
    "conf_matrix_svm_reduced = confusion_matrix(y_test_svm_reduced, y_pred_svm_reduced)\n",
    "report_svm_reduced = classification_report(y_test_svm_reduced, y_pred_svm_reduced)\n",
    "accuracy_svm_reduced = accuracy_score(y_test_svm_reduced, y_pred_svm_reduced)\n",
    "\n",
    "# Print results\n",
    "print(\"\\nConfusion Matrix (Reduced Threshold):\\n\", conf_matrix_svm_reduced)\n",
    "print(f\"\\nAccuracy: {accuracy_svm_reduced: .3f}\")\n",
    "print(f\"\\nAUC Score: {auc_score_svm_reduced: .3f}\")\n",
    "print(\"\\nClassification Report (Reduced Threshold):\\n\", report_svm_reduced)"
   ]
  },
  {
   "cell_type": "markdown",
   "metadata": {},
   "source": [
    "## Neural Networks"
   ]
  },
  {
   "cell_type": "code",
   "execution_count": 38,
   "metadata": {
    "execution": {
     "iopub.execute_input": "2025-06-02T06:05:36.974139Z",
     "iopub.status.busy": "2025-06-02T06:05:36.973903Z",
     "iopub.status.idle": "2025-06-02T06:05:36.976716Z",
     "shell.execute_reply": "2025-06-02T06:05:36.976168Z",
     "shell.execute_reply.started": "2025-06-02T06:05:36.974118Z"
    }
   },
   "outputs": [],
   "source": [
    "#!pip install tensorflow"
   ]
  },
  {
   "cell_type": "code",
   "execution_count": 39,
   "metadata": {
    "execution": {
     "iopub.execute_input": "2025-06-02T06:05:36.977577Z",
     "iopub.status.busy": "2025-06-02T06:05:36.977365Z",
     "iopub.status.idle": "2025-06-02T06:05:40.693781Z",
     "shell.execute_reply": "2025-06-02T06:05:40.693259Z",
     "shell.execute_reply.started": "2025-06-02T06:05:36.977560Z"
    }
   },
   "outputs": [
    {
     "name": "stderr",
     "output_type": "stream",
     "text": [
      "2025-06-02 06:05:37.335027: E external/local_xla/xla/stream_executor/cuda/cuda_fft.cc:467] Unable to register cuFFT factory: Attempting to register factory for plugin cuFFT when one has already been registered\n",
      "WARNING: All log messages before absl::InitializeLog() is called are written to STDERR\n",
      "E0000 00:00:1748844337.357941   24859 cuda_dnn.cc:8579] Unable to register cuDNN factory: Attempting to register factory for plugin cuDNN when one has already been registered\n",
      "E0000 00:00:1748844337.364459   24859 cuda_blas.cc:1407] Unable to register cuBLAS factory: Attempting to register factory for plugin cuBLAS when one has already been registered\n",
      "W0000 00:00:1748844337.381818   24859 computation_placer.cc:177] computation placer already registered. Please check linkage and avoid linking the same target more than once.\n",
      "W0000 00:00:1748844337.381848   24859 computation_placer.cc:177] computation placer already registered. Please check linkage and avoid linking the same target more than once.\n",
      "W0000 00:00:1748844337.381850   24859 computation_placer.cc:177] computation placer already registered. Please check linkage and avoid linking the same target more than once.\n",
      "W0000 00:00:1748844337.381852   24859 computation_placer.cc:177] computation placer already registered. Please check linkage and avoid linking the same target more than once.\n",
      "2025-06-02 06:05:37.387331: I tensorflow/core/platform/cpu_feature_guard.cc:210] This TensorFlow binary is optimized to use available CPU instructions in performance-critical operations.\n",
      "To enable the following instructions: AVX2 AVX512F FMA, in other operations, rebuild TensorFlow with the appropriate compiler flags.\n"
     ]
    }
   ],
   "source": [
    "import tensorflow as tf\n",
    "from tensorflow.keras.models import Sequential\n",
    "from tensorflow.keras.layers import Dense, Input"
   ]
  },
  {
   "cell_type": "markdown",
   "metadata": {},
   "source": [
    "#### NOTE\n",
    "X_train, X_test, y_train, y_test were already created when we fit the Logtistic Regression model"
   ]
  },
  {
   "cell_type": "markdown",
   "metadata": {},
   "source": [
    "## Create and complile the Keras model"
   ]
  },
  {
   "cell_type": "code",
   "execution_count": 40,
   "metadata": {
    "execution": {
     "iopub.execute_input": "2025-06-02T06:05:40.757113Z",
     "iopub.status.busy": "2025-06-02T06:05:40.756914Z",
     "iopub.status.idle": "2025-06-02T06:05:40.824370Z",
     "shell.execute_reply": "2025-06-02T06:05:40.823812Z",
     "shell.execute_reply.started": "2025-06-02T06:05:40.757096Z"
    }
   },
   "outputs": [
    {
     "name": "stderr",
     "output_type": "stream",
     "text": [
      "2025-06-02 06:05:40.764485: E external/local_xla/xla/stream_executor/cuda/cuda_platform.cc:51] failed call to cuInit: INTERNAL: CUDA error: Failed call to cuInit: UNKNOWN ERROR (303)\n"
     ]
    },
    {
     "data": {
      "text/html": [
       "<pre style=\"white-space:pre;overflow-x:auto;line-height:normal;font-family:Menlo,'DejaVu Sans Mono',consolas,'Courier New',monospace\"><span style=\"font-weight: bold\">Model: \"sequential\"</span>\n",
       "</pre>\n"
      ],
      "text/plain": [
       "\u001b[1mModel: \"sequential\"\u001b[0m\n"
      ]
     },
     "metadata": {},
     "output_type": "display_data"
    },
    {
     "data": {
      "text/html": [
       "<pre style=\"white-space:pre;overflow-x:auto;line-height:normal;font-family:Menlo,'DejaVu Sans Mono',consolas,'Courier New',monospace\">┏━━━━━━━━━━━━━━━━━━━━━━━━━━━━━━━━━┳━━━━━━━━━━━━━━━━━━━━━━━━┳━━━━━━━━━━━━━━━┓\n",
       "┃<span style=\"font-weight: bold\"> Layer (type)                    </span>┃<span style=\"font-weight: bold\"> Output Shape           </span>┃<span style=\"font-weight: bold\">       Param # </span>┃\n",
       "┡━━━━━━━━━━━━━━━━━━━━━━━━━━━━━━━━━╇━━━━━━━━━━━━━━━━━━━━━━━━╇━━━━━━━━━━━━━━━┩\n",
       "│ dense (<span style=\"color: #0087ff; text-decoration-color: #0087ff\">Dense</span>)                   │ (<span style=\"color: #00d7ff; text-decoration-color: #00d7ff\">None</span>, <span style=\"color: #00af00; text-decoration-color: #00af00\">16</span>)             │           <span style=\"color: #00af00; text-decoration-color: #00af00\">256</span> │\n",
       "├─────────────────────────────────┼────────────────────────┼───────────────┤\n",
       "│ dense_1 (<span style=\"color: #0087ff; text-decoration-color: #0087ff\">Dense</span>)                 │ (<span style=\"color: #00d7ff; text-decoration-color: #00d7ff\">None</span>, <span style=\"color: #00af00; text-decoration-color: #00af00\">8</span>)              │           <span style=\"color: #00af00; text-decoration-color: #00af00\">136</span> │\n",
       "├─────────────────────────────────┼────────────────────────┼───────────────┤\n",
       "│ dense_2 (<span style=\"color: #0087ff; text-decoration-color: #0087ff\">Dense</span>)                 │ (<span style=\"color: #00d7ff; text-decoration-color: #00d7ff\">None</span>, <span style=\"color: #00af00; text-decoration-color: #00af00\">1</span>)              │             <span style=\"color: #00af00; text-decoration-color: #00af00\">9</span> │\n",
       "└─────────────────────────────────┴────────────────────────┴───────────────┘\n",
       "</pre>\n"
      ],
      "text/plain": [
       "┏━━━━━━━━━━━━━━━━━━━━━━━━━━━━━━━━━┳━━━━━━━━━━━━━━━━━━━━━━━━┳━━━━━━━━━━━━━━━┓\n",
       "┃\u001b[1m \u001b[0m\u001b[1mLayer (type)                   \u001b[0m\u001b[1m \u001b[0m┃\u001b[1m \u001b[0m\u001b[1mOutput Shape          \u001b[0m\u001b[1m \u001b[0m┃\u001b[1m \u001b[0m\u001b[1m      Param #\u001b[0m\u001b[1m \u001b[0m┃\n",
       "┡━━━━━━━━━━━━━━━━━━━━━━━━━━━━━━━━━╇━━━━━━━━━━━━━━━━━━━━━━━━╇━━━━━━━━━━━━━━━┩\n",
       "│ dense (\u001b[38;5;33mDense\u001b[0m)                   │ (\u001b[38;5;45mNone\u001b[0m, \u001b[38;5;34m16\u001b[0m)             │           \u001b[38;5;34m256\u001b[0m │\n",
       "├─────────────────────────────────┼────────────────────────┼───────────────┤\n",
       "│ dense_1 (\u001b[38;5;33mDense\u001b[0m)                 │ (\u001b[38;5;45mNone\u001b[0m, \u001b[38;5;34m8\u001b[0m)              │           \u001b[38;5;34m136\u001b[0m │\n",
       "├─────────────────────────────────┼────────────────────────┼───────────────┤\n",
       "│ dense_2 (\u001b[38;5;33mDense\u001b[0m)                 │ (\u001b[38;5;45mNone\u001b[0m, \u001b[38;5;34m1\u001b[0m)              │             \u001b[38;5;34m9\u001b[0m │\n",
       "└─────────────────────────────────┴────────────────────────┴───────────────┘\n"
      ]
     },
     "metadata": {},
     "output_type": "display_data"
    },
    {
     "data": {
      "text/html": [
       "<pre style=\"white-space:pre;overflow-x:auto;line-height:normal;font-family:Menlo,'DejaVu Sans Mono',consolas,'Courier New',monospace\"><span style=\"font-weight: bold\"> Total params: </span><span style=\"color: #00af00; text-decoration-color: #00af00\">401</span> (1.57 KB)\n",
       "</pre>\n"
      ],
      "text/plain": [
       "\u001b[1m Total params: \u001b[0m\u001b[38;5;34m401\u001b[0m (1.57 KB)\n"
      ]
     },
     "metadata": {},
     "output_type": "display_data"
    },
    {
     "data": {
      "text/html": [
       "<pre style=\"white-space:pre;overflow-x:auto;line-height:normal;font-family:Menlo,'DejaVu Sans Mono',consolas,'Courier New',monospace\"><span style=\"font-weight: bold\"> Trainable params: </span><span style=\"color: #00af00; text-decoration-color: #00af00\">401</span> (1.57 KB)\n",
       "</pre>\n"
      ],
      "text/plain": [
       "\u001b[1m Trainable params: \u001b[0m\u001b[38;5;34m401\u001b[0m (1.57 KB)\n"
      ]
     },
     "metadata": {},
     "output_type": "display_data"
    },
    {
     "data": {
      "text/html": [
       "<pre style=\"white-space:pre;overflow-x:auto;line-height:normal;font-family:Menlo,'DejaVu Sans Mono',consolas,'Courier New',monospace\"><span style=\"font-weight: bold\"> Non-trainable params: </span><span style=\"color: #00af00; text-decoration-color: #00af00\">0</span> (0.00 B)\n",
       "</pre>\n"
      ],
      "text/plain": [
       "\u001b[1m Non-trainable params: \u001b[0m\u001b[38;5;34m0\u001b[0m (0.00 B)\n"
      ]
     },
     "metadata": {},
     "output_type": "display_data"
    }
   ],
   "source": [
    "nn_model = Sequential([ \n",
    "    Input(shape=(X_train.shape[1],)),\n",
    "    Dense(16, activation='relu'), \n",
    "    Dense(8, activation='relu'), \n",
    "    Dense(1, activation='sigmoid') \n",
    "]) \n",
    " \n",
    "nn_model.compile(optimizer='adam', loss='binary_crossentropy', \n",
    "                 metrics=['accuracy', 'Precision', 'Recall', 'AUC']) \n",
    "nn_model.summary()"
   ]
  },
  {
   "cell_type": "markdown",
   "metadata": {
    "execution": {
     "iopub.execute_input": "2025-06-02T05:32:48.992852Z",
     "iopub.status.busy": "2025-06-02T05:32:48.992556Z",
     "iopub.status.idle": "2025-06-02T05:32:48.995509Z",
     "shell.execute_reply": "2025-06-02T05:32:48.994987Z",
     "shell.execute_reply.started": "2025-06-02T05:32:48.992831Z"
    }
   },
   "source": [
    "## Train and evaluate the Keras model"
   ]
  },
  {
   "cell_type": "code",
   "execution_count": 41,
   "metadata": {
    "execution": {
     "iopub.execute_input": "2025-06-02T06:05:40.853952Z",
     "iopub.status.busy": "2025-06-02T06:05:40.853716Z",
     "iopub.status.idle": "2025-06-02T06:05:49.703706Z",
     "shell.execute_reply": "2025-06-02T06:05:49.703148Z",
     "shell.execute_reply.started": "2025-06-02T06:05:40.853934Z"
    }
   },
   "outputs": [
    {
     "name": "stdout",
     "output_type": "stream",
     "text": [
      "\u001b[1m6/6\u001b[0m \u001b[32m━━━━━━━━━━━━━━━━━━━━\u001b[0m\u001b[37m\u001b[0m \u001b[1m0s\u001b[0m 6ms/step - AUC: 0.9520 - Precision: 0.9186 - Recall: 0.8939 - accuracy: 0.8903 - loss: 0.2812 \n",
      "Test Accuracy: 0.886\n",
      "Test AUC: 0.946\n",
      "Test Precision: 0.916\n",
      "Test Recall: 0.891\n"
     ]
    }
   ],
   "source": [
    "# Train the model \n",
    "history = nn_model.fit(X_train, y_train, epochs=50, batch_size=16, validation_split=0.1, verbose=0)\n",
    "\n",
    "# Evaluate the model \n",
    "loss, accuracy, Precision, Recall, AUC = nn_model.evaluate(X_test, y_test) \n",
    "\n",
    "# Print results of evaluation\n",
    "print(f'Test Accuracy: {accuracy:.3f}')\n",
    "print(f'Test AUC: {AUC:.3f}')\n",
    "print(f'Test Precision: {Precision:.3f}')\n",
    "print(f'Test Recall: {Recall:.3f}')"
   ]
  },
  {
   "cell_type": "markdown",
   "metadata": {},
   "source": [
    "## To compare with Logistic Regression and SVM, determine Recall for both classes of Kidney Disease "
   ]
  },
  {
   "cell_type": "code",
   "execution_count": 59,
   "metadata": {
    "execution": {
     "iopub.execute_input": "2025-06-02T06:19:40.719201Z",
     "iopub.status.busy": "2025-06-02T06:19:40.718772Z",
     "iopub.status.idle": "2025-06-02T06:19:40.838333Z",
     "shell.execute_reply": "2025-06-02T06:19:40.837506Z",
     "shell.execute_reply.started": "2025-06-02T06:19:40.719171Z"
    }
   },
   "outputs": [
    {
     "name": "stdout",
     "output_type": "stream",
     "text": [
      "\u001b[1m6/6\u001b[0m \u001b[32m━━━━━━━━━━━━━━━━━━━━\u001b[0m\u001b[37m\u001b[0m \u001b[1m0s\u001b[0m 5ms/step \n",
      "[[65  9]\n",
      " [12 98]] \n",
      "\n",
      "Precision for Class 0: 0.844\n",
      "Precision for Class 1: 0.916\n",
      "\n",
      "Recall for Class 0: 0.878\n",
      "Recall for Class 1: 0.891\n"
     ]
    }
   ],
   "source": [
    "from sklearn.metrics import recall_score, precision_score\n",
    "\n",
    "# Generate probability predictions from the keras network model\n",
    "y_pred_probs = nn_model.predict(X_test)\n",
    "\n",
    "# Convert probabilities to binary predictions (0 or 1) using a default threshold of 0.5 \n",
    "y_pred = (y_pred_probs > 0.5).astype(int)\n",
    "\n",
    "# Calculate recall for class 0 (specificity)\n",
    "recall_class_0 = recall_score(y_test, y_pred, pos_label=0)\n",
    "# Calculate recall for class 1 (sensitivity)\n",
    "recall_class_1 = recall_score(y_test, y_pred, pos_label=1)\n",
    "\n",
    "# Calculate precision for class 0 (specificity)\n",
    "precision_class_0 = precision_score(y_test, y_pred, pos_label=0)\n",
    "# Calculate precision for class 1 (sensitivity)\n",
    "precision_class_1 = precision_score(y_test, y_pred, pos_label=1)\n",
    "\n",
    "# print confusion matrix\n",
    "print(confusion_matrix(y_test, y_pred),\"\\n\")\n",
    "\n",
    "# Print the scores\n",
    "print(f\"Precision for Class 0: {precision_class_0:.3f}\")\n",
    "print(f\"Precision for Class 1: {precision_class_1:.3f}\\n\")\n",
    "\n",
    "print(f\"Recall for Class 0: {recall_class_0:.3f}\")\n",
    "print(f\"Recall for Class 1: {recall_class_1:.3f}\")"
   ]
  },
  {
   "cell_type": "markdown",
   "metadata": {},
   "source": [
    "## Determine optimal threshold as was done for Logistic Regression and SVM"
   ]
  },
  {
   "cell_type": "code",
   "execution_count": 43,
   "metadata": {
    "execution": {
     "iopub.execute_input": "2025-06-02T06:05:49.893303Z",
     "iopub.status.busy": "2025-06-02T06:05:49.893092Z",
     "iopub.status.idle": "2025-06-02T06:05:49.898289Z",
     "shell.execute_reply": "2025-06-02T06:05:49.897791Z",
     "shell.execute_reply.started": "2025-06-02T06:05:49.893285Z"
    }
   },
   "outputs": [
    {
     "name": "stdout",
     "output_type": "stream",
     "text": [
      "Keras optimal threshold:  0.326\n"
     ]
    }
   ],
   "source": [
    "# Determine optimum threshold\n",
    "fpr, tpr, thresholds = roc_curve(y_test, y_pred_probs)\n",
    "optimal_idx = np.argmax(tpr - fpr)\n",
    "keras_optimal_threshold = thresholds[optimal_idx]\n",
    "\n",
    "# Print results\n",
    "print(f\"Keras optimal threshold: {keras_optimal_threshold: .3f}\")\n"
   ]
  },
  {
   "cell_type": "markdown",
   "metadata": {},
   "source": [
    "## Use optimal threshold"
   ]
  },
  {
   "cell_type": "code",
   "execution_count": 57,
   "metadata": {
    "execution": {
     "iopub.execute_input": "2025-06-02T06:18:30.613540Z",
     "iopub.status.busy": "2025-06-02T06:18:30.613147Z",
     "iopub.status.idle": "2025-06-02T06:18:30.627606Z",
     "shell.execute_reply": "2025-06-02T06:18:30.627043Z",
     "shell.execute_reply.started": "2025-06-02T06:18:30.613507Z"
    }
   },
   "outputs": [
    {
     "name": "stdout",
     "output_type": "stream",
     "text": [
      "[[64 10]\n",
      " [11 99]] \n",
      "\n",
      "Precision for Class 0: 0.853\n",
      "Precision for Class 1: 0.908\n",
      "\n",
      "Recall for Class 0: 0.865\n",
      "Recall for Class 1: 0.900\n"
     ]
    }
   ],
   "source": [
    "# Using optimal threshold\n",
    "y_pred = (y_pred_probs > keras_optimal_threshold).astype(int)\n",
    "\n",
    "# Calculate recall for class 0 (specificity)\n",
    "recall_class_0 = recall_score(y_test, y_pred, pos_label=0)\n",
    "# Calculate recall for class 1 (sensitivity)\n",
    "recall_class_1 = recall_score(y_test, y_pred, pos_label=1)\n",
    "\n",
    "# Calculate precision for class 0 (specificity)\n",
    "precision_class_0 = precision_score(y_test, y_pred, pos_label=0)\n",
    "# Calculate precision for class 1 (sensitivity)\n",
    "precision_class_1 = precision_score(y_test, y_pred, pos_label=1)\n",
    "\n",
    "# print confusion matrix\n",
    "print(confusion_matrix(y_test, y_pred),\"\\n\")\n",
    "\n",
    "# Print the scores\n",
    "print(f\"Precision for Class 0: {precision_class_0:.3f}\")\n",
    "print(f\"Precision for Class 1: {precision_class_1:.3f}\\n\")\n",
    "\n",
    "# Print the recall scores\n",
    "print(f\"Recall for Class 0: {recall_class_0:.3f}\")\n",
    "print(f\"Recall for Class 1: {recall_class_1:.3f}\")"
   ]
  },
  {
   "cell_type": "markdown",
   "metadata": {},
   "source": [
    "## Use reduced model with optimal threshold"
   ]
  },
  {
   "cell_type": "markdown",
   "metadata": {},
   "source": [
    "#### NOTE\n",
    "new_X_train, new_X_test, new_y_train, new_ y_test were already created when we fit the Logtistic Regression model with a reduced number of features"
   ]
  },
  {
   "cell_type": "code",
   "execution_count": 45,
   "metadata": {
    "execution": {
     "iopub.execute_input": "2025-06-02T06:05:50.002642Z",
     "iopub.status.busy": "2025-06-02T06:05:50.002423Z",
     "iopub.status.idle": "2025-06-02T06:05:58.673684Z",
     "shell.execute_reply": "2025-06-02T06:05:58.673156Z",
     "shell.execute_reply.started": "2025-06-02T06:05:50.002623Z"
    }
   },
   "outputs": [
    {
     "name": "stdout",
     "output_type": "stream",
     "text": [
      "\u001b[1m6/6\u001b[0m \u001b[32m━━━━━━━━━━━━━━━━━━━━\u001b[0m\u001b[37m\u001b[0m \u001b[1m0s\u001b[0m 5ms/step - AUC: 0.9517 - Precision: 0.8949 - Recall: 0.8705 - accuracy: 0.8631 - loss: 0.2977 \n",
      "Test Accuracy: 0.853\n",
      "Test AUC: 0.936\n",
      "Test Precision: 0.888\n",
      "Test Recall: 0.864\n"
     ]
    }
   ],
   "source": [
    "nn_red_model = Sequential([ \n",
    "    Input(shape=(new_X_train.shape[1],)),\n",
    "    Dense(16, activation='relu'), \n",
    "    Dense(8, activation='relu'), \n",
    "    Dense(1, activation='sigmoid') \n",
    "]) \n",
    " \n",
    "nn_red_model.compile(optimizer='adam', loss='binary_crossentropy', \n",
    "                 metrics=['accuracy', 'Precision', 'Recall', 'AUC']) \n",
    "\n",
    "red_history = nn_red_model.fit(new_X_train, new_y_train, epochs=50, batch_size=16, validation_split=0.1, verbose=0)\n",
    "\n",
    "# Evaluate the model \n",
    "loss, accuracy, Precision, Recall, AUC = nn_red_model.evaluate(new_X_test, new_y_test) \n",
    "\n",
    "# Print results of evaluation\n",
    "print(f'Test Accuracy: {accuracy:.3f}')\n",
    "print(f'Test AUC: {AUC:.3f}')\n",
    "print(f'Test Precision: {Precision:.3f}')\n",
    "print(f'Test Recall: {Recall:.3f}')\n"
   ]
  },
  {
   "cell_type": "markdown",
   "metadata": {},
   "source": [
    "## Determine optimal threshold"
   ]
  },
  {
   "cell_type": "code",
   "execution_count": 46,
   "metadata": {
    "execution": {
     "iopub.execute_input": "2025-06-02T06:05:58.703833Z",
     "iopub.status.busy": "2025-06-02T06:05:58.703604Z",
     "iopub.status.idle": "2025-06-02T06:05:58.821894Z",
     "shell.execute_reply": "2025-06-02T06:05:58.821396Z",
     "shell.execute_reply.started": "2025-06-02T06:05:58.703817Z"
    }
   },
   "outputs": [
    {
     "name": "stdout",
     "output_type": "stream",
     "text": [
      "\u001b[1m6/6\u001b[0m \u001b[32m━━━━━━━━━━━━━━━━━━━━\u001b[0m\u001b[37m\u001b[0m \u001b[1m0s\u001b[0m 8ms/step \n",
      "Keras optimal threshold:  0.405\n"
     ]
    }
   ],
   "source": [
    "# Generate probability predictions from the keras network model\n",
    "new_y_pred_probs = nn_red_model.predict(new_X_test)\n",
    "\n",
    "# Determine new optimum threshold\n",
    "fpr, tpr, thresholds = roc_curve(new_y_test, new_y_pred_probs)\n",
    "optimal_idx = np.argmax(tpr - fpr)\n",
    "keras_optimal_threshold = thresholds[optimal_idx]\n",
    "\n",
    "# Print results\n",
    "print(f\"Keras optimal threshold: {keras_optimal_threshold: .3f}\")"
   ]
  },
  {
   "cell_type": "markdown",
   "metadata": {},
   "source": [
    "## Use optimum threshold"
   ]
  },
  {
   "cell_type": "code",
   "execution_count": 58,
   "metadata": {
    "execution": {
     "iopub.execute_input": "2025-06-02T06:19:08.888416Z",
     "iopub.status.busy": "2025-06-02T06:19:08.888091Z",
     "iopub.status.idle": "2025-06-02T06:19:08.904257Z",
     "shell.execute_reply": "2025-06-02T06:19:08.903489Z",
     "shell.execute_reply.started": "2025-06-02T06:19:08.888396Z"
    }
   },
   "outputs": [
    {
     "name": "stdout",
     "output_type": "stream",
     "text": [
      "[[62 12]\n",
      " [12 98]] \n",
      "\n",
      "Precision for Class 0: 0.838\n",
      "Precision for Class 1: 0.891\n",
      "\n",
      "Recall for Class 0: 0.838\n",
      "Recall for Class 1: 0.891\n"
     ]
    }
   ],
   "source": [
    "# Using optimal threshold\n",
    "new_y_pred = (new_y_pred_probs > keras_optimal_threshold).astype(int)\n",
    "\n",
    "# Calculate recall for class 0 (specificity)\n",
    "recall_class_0 = recall_score(new_y_test, new_y_pred, pos_label=0)\n",
    "# Calculate recall for class 1 (sensitivity)\n",
    "recall_class_1 = recall_score(new_y_test, new_y_pred, pos_label=1)\n",
    "\n",
    "# Calculate precision for class 0 (specificity)\n",
    "precision_class_0 = precision_score(new_y_test, new_y_pred, pos_label=0)\n",
    "# Calculate precision for class 1 (sensitivity)\n",
    "precision_class_1 = precision_score(new_y_test, new_y_pred, pos_label=1)\n",
    "\n",
    "# print confusion matrix\n",
    "print(confusion_matrix(new_y_test, new_y_pred),\"\\n\")\n",
    "\n",
    "# Print the scores\n",
    "print(f\"Precision for Class 0: {precision_class_0:.3f}\")\n",
    "print(f\"Precision for Class 1: {precision_class_1:.3f}\\n\")\n",
    "\n",
    "print(f\"Recall for Class 0: {recall_class_0:.3f}\")\n",
    "print(f\"Recall for Class 1: {recall_class_1:.3f}\")"
   ]
  },
  {
   "cell_type": "code",
   "execution_count": null,
   "metadata": {},
   "outputs": [],
   "source": []
  }
 ],
 "metadata": {
  "kernelspec": {
   "display_name": "anaconda-panel-2023.05-py310",
   "language": "python",
   "name": "conda-env-anaconda-panel-2023.05-py310-py"
  },
  "language_info": {
   "codemirror_mode": {
    "name": "ipython",
    "version": 3
   },
   "file_extension": ".py",
   "mimetype": "text/x-python",
   "name": "python",
   "nbconvert_exporter": "python",
   "pygments_lexer": "ipython3",
   "version": "3.11.5"
  }
 },
 "nbformat": 4,
 "nbformat_minor": 4
}
